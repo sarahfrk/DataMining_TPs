{
 "cells": [
  {
   "cell_type": "markdown",
   "metadata": {},
   "source": [
    "FERKOUS SARAH 191931043867\n",
    "## TP_5_DM: Classification et prédiction"
   ]
  },
  {
   "cell_type": "code",
   "execution_count": 53,
   "metadata": {},
   "outputs": [],
   "source": [
    "import pandas as pd\n",
    "import math\n",
    "from tabulate import tabulate\n",
    "import numpy as np\n",
    "import random\n",
    "from typing import List\n",
    "import matplotlib.pyplot as plt"
   ]
  },
  {
   "cell_type": "markdown",
   "metadata": {},
   "source": [
    "# KNN"
   ]
  },
  {
   "cell_type": "code",
   "execution_count": 54,
   "metadata": {},
   "outputs": [
    {
     "data": {
      "text/html": [
       "<div>\n",
       "<style scoped>\n",
       "    .dataframe tbody tr th:only-of-type {\n",
       "        vertical-align: middle;\n",
       "    }\n",
       "\n",
       "    .dataframe tbody tr th {\n",
       "        vertical-align: top;\n",
       "    }\n",
       "\n",
       "    .dataframe thead th {\n",
       "        text-align: right;\n",
       "    }\n",
       "</style>\n",
       "<table border=\"1\" class=\"dataframe\">\n",
       "  <thead>\n",
       "    <tr style=\"text-align: right;\">\n",
       "      <th></th>\n",
       "      <th>col1</th>\n",
       "      <th>col2</th>\n",
       "      <th>col3</th>\n",
       "      <th>col4</th>\n",
       "      <th>col5</th>\n",
       "    </tr>\n",
       "  </thead>\n",
       "  <tbody>\n",
       "    <tr>\n",
       "      <th>0</th>\n",
       "      <td>5.1</td>\n",
       "      <td>3.5</td>\n",
       "      <td>1.4</td>\n",
       "      <td>0.2</td>\n",
       "      <td>Iris-setosa</td>\n",
       "    </tr>\n",
       "    <tr>\n",
       "      <th>1</th>\n",
       "      <td>4.9</td>\n",
       "      <td>3.0</td>\n",
       "      <td>1.4</td>\n",
       "      <td>0.2</td>\n",
       "      <td>Iris-setosa</td>\n",
       "    </tr>\n",
       "    <tr>\n",
       "      <th>2</th>\n",
       "      <td>4.7</td>\n",
       "      <td>3.2</td>\n",
       "      <td>1.3</td>\n",
       "      <td>0.2</td>\n",
       "      <td>Iris-setosa</td>\n",
       "    </tr>\n",
       "    <tr>\n",
       "      <th>3</th>\n",
       "      <td>4.6</td>\n",
       "      <td>3.1</td>\n",
       "      <td>1.5</td>\n",
       "      <td>0.2</td>\n",
       "      <td>Iris-setosa</td>\n",
       "    </tr>\n",
       "    <tr>\n",
       "      <th>4</th>\n",
       "      <td>5.0</td>\n",
       "      <td>3.6</td>\n",
       "      <td>1.4</td>\n",
       "      <td>0.2</td>\n",
       "      <td>Iris-setosa</td>\n",
       "    </tr>\n",
       "  </tbody>\n",
       "</table>\n",
       "</div>"
      ],
      "text/plain": [
       "   col1  col2  col3  col4         col5\n",
       "0   5.1   3.5   1.4   0.2  Iris-setosa\n",
       "1   4.9   3.0   1.4   0.2  Iris-setosa\n",
       "2   4.7   3.2   1.3   0.2  Iris-setosa\n",
       "3   4.6   3.1   1.5   0.2  Iris-setosa\n",
       "4   5.0   3.6   1.4   0.2  Iris-setosa"
      ]
     },
     "execution_count": 54,
     "metadata": {},
     "output_type": "execute_result"
    }
   ],
   "source": [
    "df = pd.read_csv('Dataset-Exos.txt', names=['col1', 'col2', 'col3', 'col4', 'col5'])\n",
    "df.head()"
   ]
  },
  {
   "cell_type": "code",
   "execution_count": 55,
   "metadata": {},
   "outputs": [
    {
     "data": {
      "text/plain": [
       "array(['Iris-setosa', 'Iris-versicolor', 'Iris-virginica'], dtype=object)"
      ]
     },
     "execution_count": 55,
     "metadata": {},
     "output_type": "execute_result"
    }
   ],
   "source": [
    "df.col5.unique()"
   ]
  },
  {
   "cell_type": "code",
   "execution_count": 56,
   "metadata": {},
   "outputs": [],
   "source": [
    "premiere_ligne_liste = df.iloc[0].tolist()\n",
    "deuxieme_ligne_liste = df.iloc[1].tolist()\n",
    "premiere_ligne_liste = premiere_ligne_liste[0:-1]\n",
    "deuxieme_ligne_liste = deuxieme_ligne_liste[0:-1]"
   ]
  },
  {
   "cell_type": "code",
   "execution_count": 57,
   "metadata": {},
   "outputs": [],
   "source": [
    "def calcule_distance_manhattan(A, B):   \n",
    "    #A et B sont deux tableau\n",
    "    distance = 0\n",
    "    for i in range(len(A)):\n",
    "        distance = distance + abs(A[i] - B[i])\n",
    "    return round(distance, 2)    "
   ]
  },
  {
   "cell_type": "code",
   "execution_count": 58,
   "metadata": {},
   "outputs": [],
   "source": [
    "def calcule_distance_euclidienne(A, B):\n",
    "    distance = 0\n",
    "    for i in range(len(A)):\n",
    "        distance = distance + (A[i] - B[i])**2\n",
    "    return round(math.sqrt(distance),2)    "
   ]
  },
  {
   "cell_type": "code",
   "execution_count": 59,
   "metadata": {},
   "outputs": [],
   "source": [
    "def calcule_distance_Minkowski(A, B,p=2):\n",
    "    distance = 0\n",
    "    for i in range(len(A)):\n",
    "        distance = distance + pow(abs(A[i] - B[i]), p)\n",
    "    return round(pow(distance, (1/2)), 2)    "
   ]
  },
  {
   "cell_type": "code",
   "execution_count": 60,
   "metadata": {},
   "outputs": [],
   "source": [
    "def calcule_distance_cosine(A, B):\n",
    "    produit_AB = 0\n",
    "    for i in range(len(A)):\n",
    "        produit_AB = produit_AB + (A[i]*B[i])\n",
    "\n",
    "    contite_A = 0\n",
    "    for i in range(len(A)):    \n",
    "        contite_A = contite_A + A[i]**2\n",
    "\n",
    "    contite_B = 0\n",
    "    for i in range(len(B)):    \n",
    "        contite_B = contite_B + B[i]**2    \n",
    "    distance = 1 - (produit_AB / (math.sqrt(contite_A) * math.sqrt(contite_B)))\n",
    "\n",
    "    return round(distance, 2)"
   ]
  },
  {
   "cell_type": "code",
   "execution_count": 61,
   "metadata": {},
   "outputs": [],
   "source": [
    "def default_case():\n",
    "    return \"Manhattan\""
   ]
  },
  {
   "cell_type": "code",
   "execution_count": 62,
   "metadata": {},
   "outputs": [],
   "source": [
    "def calcule_distance(X, Y, method):\n",
    "    switcher = {\n",
    "        'Manhattan': calcule_distance_manhattan,\n",
    "        'Euclidienne': calcule_distance_euclidienne,\n",
    "        'Minkowski': calcule_distance_Minkowski,\n",
    "        'Cosine': calcule_distance_cosine\n",
    "    }\n",
    "\n",
    "    # Obtenez la fonction correspondant à la méthode ou la fonction par défaut\n",
    "    func = switcher.get(method, default_case)\n",
    "    \n",
    "    # Exécutez la fonction avec les arguments X et Y\n",
    "    return func(X, Y)"
   ]
  },
  {
   "cell_type": "code",
   "execution_count": 63,
   "metadata": {},
   "outputs": [],
   "source": [
    "def TrierInstDataset(df, instance, methode):\n",
    "    distance_paire = []\n",
    "    for i in range(df.shape[0]):\n",
    "        L = df.iloc[i].tolist()\n",
    "        X = L[0:-1]\n",
    "        \n",
    "        #d = calcule_distance_Manhattan(X, instance)\n",
    "        d = calcule_distance(X, instance, methode)\n",
    "        distance_paire.append((L, d))\n",
    "\n",
    "    distance_paire_triee = sorted(distance_paire, key=lambda x: x[1])\n",
    "\n",
    "    return distance_paire_triee  "
   ]
  },
  {
   "cell_type": "code",
   "execution_count": 64,
   "metadata": {},
   "outputs": [
    {
     "name": "stdout",
     "output_type": "stream",
     "text": [
      "+-----------------------------------------+----------+\n",
      "|                Instance                 | Distance |\n",
      "+-----------------------------------------+----------+\n",
      "|   [5.2, 3.5, 1.5, 0.2, 'Iris-setosa']   |   0.14   |\n",
      "|   [5.1, 3.5, 1.4, 0.2, 'Iris-setosa']   |   0.16   |\n",
      "|   [5.1, 3.5, 1.4, 0.3, 'Iris-setosa']   |   0.16   |\n",
      "|   [5.2, 3.4, 1.4, 0.2, 'Iris-setosa']   |   0.16   |\n",
      "|   [5.1, 3.4, 1.5, 0.2, 'Iris-setosa']   |   0.34   |\n",
      "|   [5.0, 3.6, 1.4, 0.2, 'Iris-setosa']   |   0.36   |\n",
      "|   [5.0, 3.5, 1.3, 0.3, 'Iris-setosa']   |   0.36   |\n",
      "|   [5.0, 3.4, 1.5, 0.2, 'Iris-setosa']   |   0.44   |\n",
      "|   [5.3, 3.7, 1.5, 0.2, 'Iris-setosa']   |   0.44   |\n",
      "|   [5.5, 3.5, 1.3, 0.2, 'Iris-setosa']   |   0.46   |\n",
      "|   [5.0, 3.3, 1.4, 0.2, 'Iris-setosa']   |   0.46   |\n",
      "|   [5.4, 3.7, 1.5, 0.2, 'Iris-setosa']   |   0.54   |\n",
      "|   [5.1, 3.8, 1.5, 0.3, 'Iris-setosa']   |   0.54   |\n",
      "|   [5.1, 3.7, 1.5, 0.4, 'Iris-setosa']   |   0.54   |\n",
      "|   [5.4, 3.4, 1.5, 0.4, 'Iris-setosa']   |   0.54   |\n",
      "|   [5.4, 3.4, 1.7, 0.2, 'Iris-setosa']   |   0.64   |\n",
      "|   [5.0, 3.4, 1.6, 0.4, 'Iris-setosa']   |   0.64   |\n",
      "|   [5.1, 3.8, 1.6, 0.2, 'Iris-setosa']   |   0.64   |\n",
      "|   [4.8, 3.4, 1.6, 0.2, 'Iris-setosa']   |   0.74   |\n",
      "|   [5.0, 3.5, 1.6, 0.6, 'Iris-setosa']   |   0.74   |\n",
      "|   [4.6, 3.4, 1.4, 0.3, 'Iris-setosa']   |   0.76   |\n",
      "|   [5.0, 3.2, 1.2, 0.2, 'Iris-setosa']   |   0.76   |\n",
      "|   [5.1, 3.3, 1.7, 0.5, 'Iris-setosa']   |   0.84   |\n",
      "|   [5.2, 4.1, 1.5, 0.1, 'Iris-setosa']   |   0.84   |\n",
      "|   [4.9, 3.0, 1.4, 0.2, 'Iris-setosa']   |   0.86   |\n",
      "|   [5.4, 3.9, 1.3, 0.4, 'Iris-setosa']   |   0.86   |\n",
      "|   [4.9, 3.1, 1.5, 0.1, 'Iris-setosa']   |   0.94   |\n",
      "|   [5.0, 3.0, 1.6, 0.2, 'Iris-setosa']   |   0.94   |\n",
      "|   [4.9, 3.1, 1.5, 0.1, 'Iris-setosa']   |   0.94   |\n",
      "|   [4.9, 3.1, 1.5, 0.1, 'Iris-setosa']   |   0.94   |\n",
      "|   [4.7, 3.2, 1.3, 0.2, 'Iris-setosa']   |   0.96   |\n",
      "|   [4.8, 3.0, 1.4, 0.3, 'Iris-setosa']   |   0.96   |\n",
      "|   [4.6, 3.2, 1.4, 0.2, 'Iris-setosa']   |   0.96   |\n",
      "|   [5.4, 3.9, 1.7, 0.4, 'Iris-setosa']   |   1.04   |\n",
      "|   [4.8, 3.4, 1.9, 0.2, 'Iris-setosa']   |   1.04   |\n",
      "|   [4.7, 3.2, 1.6, 0.2, 'Iris-setosa']   |   1.04   |\n",
      "|   [4.8, 3.1, 1.6, 0.2, 'Iris-setosa']   |   1.04   |\n",
      "|   [5.1, 3.8, 1.9, 0.4, 'Iris-setosa']   |   1.04   |\n",
      "|   [4.8, 3.0, 1.4, 0.1, 'Iris-setosa']   |   1.06   |\n",
      "|   [5.5, 4.2, 1.4, 0.2, 'Iris-setosa']   |   1.06   |\n",
      "|   [4.6, 3.1, 1.5, 0.2, 'Iris-setosa']   |   1.14   |\n",
      "|   [5.7, 3.8, 1.7, 0.3, 'Iris-setosa']   |   1.14   |\n",
      "|   [4.6, 3.6, 1.0, 0.2, 'Iris-setosa']   |   1.16   |\n",
      "|   [4.4, 3.2, 1.3, 0.2, 'Iris-setosa']   |   1.26   |\n",
      "|   [5.8, 4.0, 1.2, 0.2, 'Iris-setosa']   |   1.36   |\n",
      "|   [4.4, 2.9, 1.4, 0.2, 'Iris-setosa']   |   1.46   |\n",
      "|   [4.4, 3.0, 1.3, 0.2, 'Iris-setosa']   |   1.46   |\n",
      "|   [5.7, 4.4, 1.5, 0.4, 'Iris-setosa']   |   1.64   |\n",
      "|   [4.3, 3.0, 1.1, 0.1, 'Iris-setosa']   |   1.86   |\n",
      "|   [4.5, 2.3, 1.3, 0.3, 'Iris-setosa']   |   2.06   |\n",
      "| [5.1, 2.5, 3.0, 1.1, 'Iris-versicolor'] |   3.54   |\n",
      "| [4.9, 2.4, 3.3, 1.0, 'Iris-versicolor'] |   4.04   |\n",
      "| [5.0, 2.3, 3.3, 1.0, 'Iris-versicolor'] |   4.04   |\n",
      "| [5.6, 2.9, 3.6, 1.3, 'Iris-versicolor'] |   4.24   |\n",
      "| [5.7, 2.6, 3.5, 1.0, 'Iris-versicolor'] |   4.24   |\n",
      "| [5.2, 2.7, 3.9, 1.4, 'Iris-versicolor'] |   4.44   |\n",
      "| [5.5, 2.4, 3.7, 1.0, 'Iris-versicolor'] |   4.44   |\n",
      "| [5.0, 2.0, 3.5, 1.0, 'Iris-versicolor'] |   4.54   |\n",
      "| [5.5, 2.4, 3.8, 1.1, 'Iris-versicolor'] |   4.64   |\n",
      "| [5.6, 3.0, 4.1, 1.3, 'Iris-versicolor'] |   4.64   |\n",
      "| [5.6, 2.5, 3.9, 1.1, 'Iris-versicolor'] |   4.74   |\n",
      "| [5.7, 3.0, 4.2, 1.2, 'Iris-versicolor'] |   4.74   |\n",
      "| [5.8, 2.7, 4.1, 1.0, 'Iris-versicolor'] |   4.84   |\n",
      "| [5.8, 2.7, 3.9, 1.2, 'Iris-versicolor'] |   4.84   |\n",
      "| [5.5, 2.5, 4.0, 1.3, 'Iris-versicolor'] |   4.94   |\n",
      "| [5.7, 2.9, 4.2, 1.3, 'Iris-versicolor'] |   4.94   |\n",
      "| [5.7, 2.8, 4.1, 1.3, 'Iris-versicolor'] |   4.94   |\n",
      "| [5.4, 3.0, 4.5, 1.5, 'Iris-versicolor'] |   5.04   |\n",
      "| [5.8, 2.6, 4.0, 1.2, 'Iris-versicolor'] |   5.04   |\n",
      "| [5.6, 2.7, 4.2, 1.3, 'Iris-versicolor'] |   5.04   |\n",
      "| [5.5, 2.3, 4.0, 1.3, 'Iris-versicolor'] |   5.14   |\n",
      "| [5.5, 2.6, 4.4, 1.2, 'Iris-versicolor'] |   5.14   |\n",
      "| [5.9, 3.0, 4.2, 1.5, 'Iris-versicolor'] |   5.24   |\n",
      "| [5.6, 3.0, 4.5, 1.5, 'Iris-versicolor'] |   5.24   |\n",
      "| [6.1, 2.8, 4.0, 1.3, 'Iris-versicolor'] |   5.24   |\n",
      "| [5.7, 2.8, 4.5, 1.3, 'Iris-versicolor'] |   5.34   |\n",
      "| [6.0, 3.4, 4.5, 1.6, 'Iris-versicolor'] |   5.34   |\n",
      "| [6.0, 2.2, 4.0, 1.0, 'Iris-versicolor'] |   5.44   |\n",
      "| [6.2, 2.9, 4.3, 1.3, 'Iris-versicolor'] |   5.54   |\n",
      "| [6.4, 2.9, 4.3, 1.3, 'Iris-versicolor'] |   5.74   |\n",
      "| [6.0, 2.9, 4.5, 1.5, 'Iris-versicolor'] |   5.74   |\n",
      "| [6.1, 3.0, 4.6, 1.4, 'Iris-versicolor'] |   5.74   |\n",
      "| [6.4, 3.2, 4.5, 1.5, 'Iris-versicolor'] |   5.84   |\n",
      "| [6.1, 2.8, 4.7, 1.2, 'Iris-versicolor'] |   5.84   |\n",
      "| [4.9, 2.5, 4.5, 1.7, 'Iris-virginica']  |   5.84   |\n",
      "| [6.3, 3.3, 4.7, 1.6, 'Iris-versicolor'] |   5.94   |\n",
      "| [6.1, 2.9, 4.7, 1.4, 'Iris-versicolor'] |   5.94   |\n",
      "| [5.9, 3.2, 4.8, 1.8, 'Iris-versicolor'] |   5.94   |\n",
      "| [6.7, 3.1, 4.4, 1.4, 'Iris-versicolor'] |   6.04   |\n",
      "| [6.6, 3.0, 4.4, 1.4, 'Iris-versicolor'] |   6.04   |\n",
      "| [6.6, 2.9, 4.6, 1.3, 'Iris-versicolor'] |   6.24   |\n",
      "| [6.0, 3.0, 4.8, 1.8, 'Iris-virginica']  |   6.24   |\n",
      "| [6.3, 2.3, 4.4, 1.3, 'Iris-versicolor'] |   6.34   |\n",
      "| [5.6, 2.8, 4.9, 2.0, 'Iris-virginica']  |   6.34   |\n",
      "| [6.5, 2.8, 4.6, 1.5, 'Iris-versicolor'] |   6.44   |\n",
      "| [6.7, 3.1, 4.7, 1.5, 'Iris-versicolor'] |   6.44   |\n",
      "| [6.1, 3.0, 4.9, 1.8, 'Iris-virginica']  |   6.44   |\n",
      "| [5.9, 3.0, 5.1, 1.8, 'Iris-virginica']  |   6.44   |\n",
      "| [7.0, 3.2, 4.7, 1.4, 'Iris-versicolor'] |   6.54   |\n",
      "| [6.2, 2.2, 4.5, 1.5, 'Iris-versicolor'] |   6.64   |\n",
      "| [6.0, 2.7, 5.1, 1.6, 'Iris-versicolor'] |   6.64   |\n",
      "| [6.2, 2.8, 4.8, 1.8, 'Iris-virginica']  |   6.64   |\n",
      "| [5.8, 2.7, 5.1, 1.9, 'Iris-virginica']  |   6.74   |\n",
      "| [6.3, 2.8, 5.1, 1.5, 'Iris-virginica']  |   6.74   |\n",
      "| [5.8, 2.7, 5.1, 1.9, 'Iris-virginica']  |   6.74   |\n",
      "| [6.9, 3.1, 4.9, 1.5, 'Iris-versicolor'] |   6.84   |\n",
      "| [6.3, 2.5, 4.9, 1.5, 'Iris-versicolor'] |   6.84   |\n",
      "| [6.8, 2.8, 4.8, 1.4, 'Iris-versicolor'] |   6.84   |\n",
      "| [5.7, 2.5, 5.0, 2.0, 'Iris-virginica']  |   6.84   |\n",
      "| [6.0, 2.2, 5.0, 1.5, 'Iris-virginica']  |   6.94   |\n",
      "| [6.3, 2.7, 4.9, 1.8, 'Iris-virginica']  |   6.94   |\n",
      "| [6.7, 3.0, 5.0, 1.7, 'Iris-versicolor'] |   7.04   |\n",
      "| [6.5, 3.2, 5.1, 2.0, 'Iris-virginica']  |   7.04   |\n",
      "| [5.8, 2.8, 5.1, 2.4, 'Iris-virginica']  |   7.14   |\n",
      "| [6.1, 2.6, 5.6, 1.4, 'Iris-virginica']  |   7.14   |\n",
      "| [6.2, 3.4, 5.4, 2.3, 'Iris-virginica']  |   7.14   |\n",
      "| [6.4, 3.1, 5.5, 1.8, 'Iris-virginica']  |   7.24   |\n",
      "| [6.3, 2.5, 5.0, 1.9, 'Iris-virginica']  |   7.34   |\n",
      "| [6.5, 3.0, 5.2, 2.0, 'Iris-virginica']  |   7.34   |\n",
      "| [6.3, 2.9, 5.6, 1.8, 'Iris-virginica']  |   7.44   |\n",
      "| [6.4, 3.2, 5.3, 2.3, 'Iris-virginica']  |   7.44   |\n",
      "| [6.5, 3.0, 5.5, 1.8, 'Iris-virginica']  |   7.44   |\n",
      "| [6.4, 2.7, 5.3, 1.9, 'Iris-virginica']  |   7.54   |\n",
      "| [6.3, 3.4, 5.6, 2.4, 'Iris-virginica']  |   7.54   |\n",
      "| [6.7, 3.3, 5.7, 2.1, 'Iris-virginica']  |   7.84   |\n",
      "| [6.9, 3.1, 5.1, 2.3, 'Iris-virginica']  |   7.84   |\n",
      "| [6.7, 3.0, 5.2, 2.3, 'Iris-virginica']  |   7.84   |\n",
      "| [6.4, 2.8, 5.6, 2.1, 'Iris-virginica']  |   7.94   |\n",
      "| [6.9, 3.1, 5.4, 2.1, 'Iris-virginica']  |   7.94   |\n",
      "| [6.8, 3.0, 5.5, 2.1, 'Iris-virginica']  |   8.04   |\n",
      "| [6.4, 2.8, 5.6, 2.2, 'Iris-virginica']  |   8.04   |\n",
      "| [6.3, 3.3, 6.0, 2.5, 'Iris-virginica']  |   8.14   |\n",
      "| [6.5, 3.0, 5.8, 2.2, 'Iris-virginica']  |   8.14   |\n",
      "| [7.2, 3.0, 5.8, 1.6, 'Iris-virginica']  |   8.24   |\n",
      "| [6.7, 3.1, 5.6, 2.4, 'Iris-virginica']  |   8.24   |\n",
      "| [6.7, 3.3, 5.7, 2.5, 'Iris-virginica']  |   8.24   |\n",
      "| [6.9, 3.2, 5.7, 2.3, 'Iris-virginica']  |   8.34   |\n",
      "| [6.7, 2.5, 5.8, 1.8, 'Iris-virginica']  |   8.44   |\n",
      "| [7.2, 3.2, 6.0, 1.8, 'Iris-virginica']  |   8.44   |\n",
      "| [6.8, 3.2, 5.9, 2.3, 'Iris-virginica']  |   8.44   |\n",
      "| [7.1, 3.0, 5.9, 2.1, 'Iris-virginica']  |   8.74   |\n",
      "| [7.2, 3.6, 6.1, 2.5, 'Iris-virginica']  |   9.04   |\n",
      "| [7.3, 2.9, 6.3, 1.8, 'Iris-virginica']  |   9.14   |\n",
      "| [7.4, 2.8, 6.1, 1.9, 'Iris-virginica']  |   9.24   |\n",
      "| [7.9, 3.8, 6.4, 2.0, 'Iris-virginica']  |   9.74   |\n",
      "| [7.7, 3.0, 6.1, 2.3, 'Iris-virginica']  |   9.74   |\n",
      "| [7.6, 3.0, 6.6, 2.1, 'Iris-virginica']  |   9.94   |\n",
      "| [7.7, 3.8, 6.7, 2.2, 'Iris-virginica']  |  10.04   |\n",
      "| [7.7, 2.8, 6.7, 2.0, 'Iris-virginica']  |  10.24   |\n",
      "| [7.7, 2.6, 6.9, 2.3, 'Iris-virginica']  |  10.94   |\n",
      "+-----------------------------------------+----------+\n"
     ]
    }
   ],
   "source": [
    "resultat_trie = TrierInstDataset(df, [5.2, 3.5 , 1.41, 0.25], 'Manhattan')\n",
    "tableau_resultat = tabulate(resultat_trie, headers=[\"Instance\", \"Distance\"], tablefmt=\"pretty\")\n",
    "print(tableau_resultat)"
   ]
  },
  {
   "cell_type": "code",
   "execution_count": 65,
   "metadata": {},
   "outputs": [],
   "source": [
    "from collections import Counter\n",
    "\n",
    "def Dominante(df, resultat_trie, k):\n",
    "    decision = []\n",
    "    for i in range(k):\n",
    "        decision.append(resultat_trie[0][0][-1])  \n",
    "\n",
    "    # Utiliser Counter pour compter les occurrences\n",
    "    comptage_classes = Counter(decision)   \n",
    "\n",
    "    classes = dict(sorted(comptage_classes.items(), key=lambda item: item[1], reverse=True))\n",
    " \n",
    "    return classes"
   ]
  },
  {
   "cell_type": "code",
   "execution_count": 66,
   "metadata": {},
   "outputs": [
    {
     "data": {
      "text/plain": [
       "{'Iris-setosa': 5}"
      ]
     },
     "execution_count": 66,
     "metadata": {},
     "output_type": "execute_result"
    }
   ],
   "source": [
    "C = Dominante(df, resultat_trie, 5)\n",
    "C"
   ]
  },
  {
   "cell_type": "code",
   "execution_count": 67,
   "metadata": {},
   "outputs": [],
   "source": [
    "def KNN(k, instance, methode, df):\n",
    "    resultat_trie = TrierInstDataset(df, instance, methode)\n",
    "    C = Dominante(df, resultat_trie, k)\n",
    "    return C"
   ]
  },
  {
   "cell_type": "code",
   "execution_count": 68,
   "metadata": {},
   "outputs": [],
   "source": [
    "list_of_lists = df.values.tolist()\n",
    "new_list = [row[:-1] for row in list_of_lists]"
   ]
  },
  {
   "cell_type": "code",
   "execution_count": 69,
   "metadata": {},
   "outputs": [
    {
     "data": {
      "text/html": [
       "<div>\n",
       "<style scoped>\n",
       "    .dataframe tbody tr th:only-of-type {\n",
       "        vertical-align: middle;\n",
       "    }\n",
       "\n",
       "    .dataframe tbody tr th {\n",
       "        vertical-align: top;\n",
       "    }\n",
       "\n",
       "    .dataframe thead th {\n",
       "        text-align: right;\n",
       "    }\n",
       "</style>\n",
       "<table border=\"1\" class=\"dataframe\">\n",
       "  <thead>\n",
       "    <tr style=\"text-align: right;\">\n",
       "      <th></th>\n",
       "      <th>Méthode</th>\n",
       "      <th>Classe Deduite</th>\n",
       "    </tr>\n",
       "  </thead>\n",
       "  <tbody>\n",
       "    <tr>\n",
       "      <th>0</th>\n",
       "      <td>Manhattan</td>\n",
       "      <td>(Iris-setosa)</td>\n",
       "    </tr>\n",
       "    <tr>\n",
       "      <th>1</th>\n",
       "      <td>Euclidienne</td>\n",
       "      <td>(Iris-setosa)</td>\n",
       "    </tr>\n",
       "    <tr>\n",
       "      <th>2</th>\n",
       "      <td>Minkowski</td>\n",
       "      <td>(Iris-setosa)</td>\n",
       "    </tr>\n",
       "    <tr>\n",
       "      <th>3</th>\n",
       "      <td>Cosine</td>\n",
       "      <td>(Iris-setosa)</td>\n",
       "    </tr>\n",
       "  </tbody>\n",
       "</table>\n",
       "</div>"
      ],
      "text/plain": [
       "       Méthode Classe Deduite\n",
       "0    Manhattan  (Iris-setosa)\n",
       "1  Euclidienne  (Iris-setosa)\n",
       "2    Minkowski  (Iris-setosa)\n",
       "3       Cosine  (Iris-setosa)"
      ]
     },
     "execution_count": 69,
     "metadata": {},
     "output_type": "execute_result"
    }
   ],
   "source": [
    "methodes = ['Manhattan', 'Euclidienne', 'Minkowski', 'Cosine']\n",
    "resultats = []\n",
    "\n",
    "for i in methodes:\n",
    "    classe = KNN(3, [5.2, 3.5, 1.41, 0.25], i, df)\n",
    "    resultats.append({'Méthode': i, 'Classe Deduite': classe.keys()})\n",
    "\n",
    "df_resultats = pd.DataFrame(resultats)\n",
    "\n",
    "df_resultats\n"
   ]
  },
  {
   "cell_type": "markdown",
   "metadata": {},
   "source": [
    "La distance de Hamming n'est pas appropriée pour ce type de données, car le dataset Iris est composé de mesures continues (float) pour les caractéristiques des fleurs"
   ]
  },
  {
   "cell_type": "markdown",
   "metadata": {},
   "source": [
    "# K-means"
   ]
  },
  {
   "cell_type": "code",
   "execution_count": 70,
   "metadata": {},
   "outputs": [],
   "source": [
    "def calcule_centroide(instances):\n",
    "    if not instances:\n",
    "        raise ValueError(\"Instances list is empty\")\n",
    "\n",
    "    num_dimensions = len(instances[0])\n",
    "    somme = [0] * num_dimensions\n",
    "\n",
    "    for instance in instances:\n",
    "        for i in range(num_dimensions):\n",
    "            somme[i] += instance[i]\n",
    "\n",
    "    moyenne = [s / len(instances) for s in somme]\n",
    "\n",
    "    return moyenne"
   ]
  },
  {
   "cell_type": "markdown",
   "metadata": {},
   "source": [
    "O(NTK)"
   ]
  },
  {
   "cell_type": "code",
   "execution_count": 71,
   "metadata": {},
   "outputs": [],
   "source": [
    "def initialise_centroides(instances, k):\n",
    "    return random.sample(instances, k)"
   ]
  },
  {
   "cell_type": "code",
   "execution_count": 72,
   "metadata": {},
   "outputs": [],
   "source": [
    "list_of_lists = df.values.tolist()\n",
    "new_list = [row[:-1] for row in list_of_lists]"
   ]
  },
  {
   "cell_type": "code",
   "execution_count": 73,
   "metadata": {},
   "outputs": [],
   "source": [
    "def visualize_clusters(instances, instance_clusters, centroides):\n",
    "    colors = [plt.cm.Spectral(each) for each in np.linspace(0, 1, len(centroides))]\n",
    "\n",
    "    for cluster_index, color in zip(range(len(centroides)), colors):\n",
    "        cluster_points = [instances[i] for i in range(len(instance_clusters)) if instance_clusters[i] == cluster_index]\n",
    "        cluster_points = np.array(cluster_points)  # Convert to NumPy array for better handling\n",
    "\n",
    "        if len(cluster_points) > 0:\n",
    "            plt.scatter(cluster_points[:, 0], cluster_points[:, 1], c=color, marker='o', label=f'Cluster {cluster_index}')\n",
    "\n",
    "    # Plot centroids\n",
    "    centroides = np.array(centroides)  # Convert to NumPy array for better handling\n",
    "    plt.scatter(centroides[:, 0], centroides[:, 1], c='black', marker='x', s=200, label='Centroids')\n",
    "\n",
    "    plt.title('K-Means Clustering')\n",
    "    plt.xlabel('Feature 1')\n",
    "    plt.ylabel('Feature 2')\n",
    "    plt.legend()\n",
    "    plt.show()"
   ]
  },
  {
   "cell_type": "code",
   "execution_count": 74,
   "metadata": {},
   "outputs": [],
   "source": [
    "def k_means(instances, k, max_iterations=100):\n",
    "    if k <= 0 or not instances:\n",
    "        raise ValueError(\"Invalid number of clusters or empty dataset\")\n",
    "\n",
    "    centroides = initialise_centroides(instances, k)\n",
    "\n",
    "    for _ in range(max_iterations):\n",
    "        clusters = [[] for _ in range(k)]\n",
    "        for i, instance in enumerate(instances):\n",
    "            distances = [calcule_distance_euclidienne(instance, centroid) for centroid in centroides]\n",
    "            closest_cluster_index = distances.index(min(distances))\n",
    "            clusters[closest_cluster_index].append(i)\n",
    "\n",
    "        new_centroides = [calcule_centroide([instances[i] for i in cluster]) for cluster in clusters]\n",
    "\n",
    "        if new_centroides == centroides:\n",
    "            break\n",
    "\n",
    "        centroides = new_centroides\n",
    "\n",
    "    # Créer une liste 'Cluster' pour chaque instance\n",
    "    instance_clusters = [-1] * len(instances)\n",
    "\n",
    "    # Attribuer les clusters à chaque instance\n",
    "    for cluster_index, cluster in enumerate(clusters):\n",
    "        for instance_index in cluster:\n",
    "            instance_clusters[instance_index] = cluster_index\n",
    "    visualize_clusters(instances, instance_clusters, centroides)\n",
    "    return instance_clusters"
   ]
  },
  {
   "cell_type": "code",
   "execution_count": 75,
   "metadata": {},
   "outputs": [],
   "source": [
    "df = df.drop('col5', axis=1)"
   ]
  },
  {
   "cell_type": "code",
   "execution_count": 76,
   "metadata": {},
   "outputs": [],
   "source": [
    "k = 3"
   ]
  },
  {
   "cell_type": "code",
   "execution_count": 77,
   "metadata": {},
   "outputs": [
    {
     "name": "stderr",
     "output_type": "stream",
     "text": [
      "C:\\Users\\Dell\\AppData\\Local\\Temp\\ipykernel_15716\\3517562915.py:9: UserWarning: *c* argument looks like a single numeric RGB or RGBA sequence, which should be avoided as value-mapping will have precedence in case its length matches with *x* & *y*.  Please use the *color* keyword-argument or provide a 2D array with a single row if you intend to specify the same RGB or RGBA value for all points.\n",
      "  plt.scatter(cluster_points[:, 0], cluster_points[:, 1], c=color, marker='o', label=f'Cluster {cluster_index}')\n"
     ]
    },
    {
     "data": {
      "image/png": "[encoded data removed]",
      "text/plain": [
       "<Figure size 640x480 with 1 Axes>"
      ]
     },
     "metadata": {},
     "output_type": "display_data"
    },
    {
     "data": {
      "text/html": [
       "<div>\n",
       "<style scoped>\n",
       "    .dataframe tbody tr th:only-of-type {\n",
       "        vertical-align: middle;\n",
       "    }\n",
       "\n",
       "    .dataframe tbody tr th {\n",
       "        vertical-align: top;\n",
       "    }\n",
       "\n",
       "    .dataframe thead th {\n",
       "        text-align: right;\n",
       "    }\n",
       "</style>\n",
       "<table border=\"1\" class=\"dataframe\">\n",
       "  <thead>\n",
       "    <tr style=\"text-align: right;\">\n",
       "      <th></th>\n",
       "      <th>col1</th>\n",
       "      <th>col2</th>\n",
       "      <th>col3</th>\n",
       "      <th>col4</th>\n",
       "      <th>Cluster</th>\n",
       "    </tr>\n",
       "  </thead>\n",
       "  <tbody>\n",
       "    <tr>\n",
       "      <th>0</th>\n",
       "      <td>5.1</td>\n",
       "      <td>3.5</td>\n",
       "      <td>1.4</td>\n",
       "      <td>0.2</td>\n",
       "      <td>2</td>\n",
       "    </tr>\n",
       "    <tr>\n",
       "      <th>1</th>\n",
       "      <td>4.9</td>\n",
       "      <td>3.0</td>\n",
       "      <td>1.4</td>\n",
       "      <td>0.2</td>\n",
       "      <td>2</td>\n",
       "    </tr>\n",
       "    <tr>\n",
       "      <th>2</th>\n",
       "      <td>4.7</td>\n",
       "      <td>3.2</td>\n",
       "      <td>1.3</td>\n",
       "      <td>0.2</td>\n",
       "      <td>2</td>\n",
       "    </tr>\n",
       "    <tr>\n",
       "      <th>3</th>\n",
       "      <td>4.6</td>\n",
       "      <td>3.1</td>\n",
       "      <td>1.5</td>\n",
       "      <td>0.2</td>\n",
       "      <td>2</td>\n",
       "    </tr>\n",
       "    <tr>\n",
       "      <th>4</th>\n",
       "      <td>5.0</td>\n",
       "      <td>3.6</td>\n",
       "      <td>1.4</td>\n",
       "      <td>0.2</td>\n",
       "      <td>2</td>\n",
       "    </tr>\n",
       "    <tr>\n",
       "      <th>...</th>\n",
       "      <td>...</td>\n",
       "      <td>...</td>\n",
       "      <td>...</td>\n",
       "      <td>...</td>\n",
       "      <td>...</td>\n",
       "    </tr>\n",
       "    <tr>\n",
       "      <th>145</th>\n",
       "      <td>6.7</td>\n",
       "      <td>3.0</td>\n",
       "      <td>5.2</td>\n",
       "      <td>2.3</td>\n",
       "      <td>0</td>\n",
       "    </tr>\n",
       "    <tr>\n",
       "      <th>146</th>\n",
       "      <td>6.3</td>\n",
       "      <td>2.5</td>\n",
       "      <td>5.0</td>\n",
       "      <td>1.9</td>\n",
       "      <td>1</td>\n",
       "    </tr>\n",
       "    <tr>\n",
       "      <th>147</th>\n",
       "      <td>6.5</td>\n",
       "      <td>3.0</td>\n",
       "      <td>5.2</td>\n",
       "      <td>2.0</td>\n",
       "      <td>0</td>\n",
       "    </tr>\n",
       "    <tr>\n",
       "      <th>148</th>\n",
       "      <td>6.2</td>\n",
       "      <td>3.4</td>\n",
       "      <td>5.4</td>\n",
       "      <td>2.3</td>\n",
       "      <td>0</td>\n",
       "    </tr>\n",
       "    <tr>\n",
       "      <th>149</th>\n",
       "      <td>5.9</td>\n",
       "      <td>3.0</td>\n",
       "      <td>5.1</td>\n",
       "      <td>1.8</td>\n",
       "      <td>1</td>\n",
       "    </tr>\n",
       "  </tbody>\n",
       "</table>\n",
       "<p>150 rows × 5 columns</p>\n",
       "</div>"
      ],
      "text/plain": [
       "     col1  col2  col3  col4  Cluster\n",
       "0     5.1   3.5   1.4   0.2        2\n",
       "1     4.9   3.0   1.4   0.2        2\n",
       "2     4.7   3.2   1.3   0.2        2\n",
       "3     4.6   3.1   1.5   0.2        2\n",
       "4     5.0   3.6   1.4   0.2        2\n",
       "..    ...   ...   ...   ...      ...\n",
       "145   6.7   3.0   5.2   2.3        0\n",
       "146   6.3   2.5   5.0   1.9        1\n",
       "147   6.5   3.0   5.2   2.0        0\n",
       "148   6.2   3.4   5.4   2.3        0\n",
       "149   5.9   3.0   5.1   1.8        1\n",
       "\n",
       "[150 rows x 5 columns]"
      ]
     },
     "execution_count": 77,
     "metadata": {},
     "output_type": "execute_result"
    }
   ],
   "source": [
    "instances = df.iloc[:, :].values.tolist()\n",
    "df['Cluster'] = k_means(instances, k)\n",
    "df"
   ]
  },
  {
   "cell_type": "code",
   "execution_count": 78,
   "metadata": {},
   "outputs": [
    {
     "name": "stderr",
     "output_type": "stream",
     "text": [
      "C:\\Users\\Dell\\AppData\\Local\\Temp\\ipykernel_15716\\194251476.py:4: FutureWarning: Series.__getitem__ treating keys as positions is deprecated. In a future version, integer keys will always be treated as labels (consistent with DataFrame behavior). To access a value by position, use `ser.iloc[pos]`\n",
      "  distance = distance + (A[i] - B[i])**2\n"
     ]
    },
    {
     "name": "stdout",
     "output_type": "stream",
     "text": [
      "Coefficient de silhouette moyen: 0.2206668919497585\n"
     ]
    }
   ],
   "source": [
    "df[['col1', 'col2', 'col3', 'col4']] = df[['col1', 'col2', 'col3', 'col4']].apply(pd.to_numeric, errors='coerce')\n",
    "\n",
    "def calculate_a_b(cluster, instance, dataset, distance_function):\n",
    "    a_values = []\n",
    "    b_values = []\n",
    "\n",
    "    for i in range(len(dataset)):\n",
    "        if dataset.iloc[i]['Cluster'] == cluster:\n",
    "            a_values.append(distance_function(instance, dataset.iloc[i, :-1]))\n",
    "        else:\n",
    "            b_values.append(distance_function(instance, dataset.iloc[i, :-1]))\n",
    "\n",
    "    a = np.mean(a_values)\n",
    "    b = np.min(b_values) if len(b_values) > 0 else np.inf\n",
    "\n",
    "    return a, b\n",
    "\n",
    "\n",
    "def silhouette_score(dataset, distance_function):\n",
    "    scores = []\n",
    "\n",
    "    for i in range(len(dataset)):\n",
    "        instance = dataset.iloc[i, :-1]\n",
    "        cluster = dataset.iloc[i]['Cluster']\n",
    "\n",
    "        a, b = calculate_a_b(cluster, instance, dataset, distance_function)\n",
    "\n",
    "        silhouette_i = (b - a) / max(a, b)\n",
    "        scores.append(silhouette_i)\n",
    "\n",
    "    silhouette_avg = np.mean(scores)\n",
    "    return silhouette_avg\n",
    "\n",
    "silhouette_avg = silhouette_score(df, calcule_distance_euclidienne)\n",
    "print(f'Coefficient de silhouette moyen: {silhouette_avg}')"
   ]
  }
 ],
 "metadata": {
  "kernelspec": {
   "display_name": "Python 3",
   "language": "python",
   "name": "python3"
  },
  "language_info": {
   "codemirror_mode": {
    "name": "ipython",
    "version": 3
   },
   "file_extension": ".py",
   "mimetype": "text/x-python",
   "name": "python",
   "nbconvert_exporter": "python",
   "pygments_lexer": "ipython3",
   "version": "3.12.0"
  }
 },
 "nbformat": 4,
 "nbformat_minor": 2
}

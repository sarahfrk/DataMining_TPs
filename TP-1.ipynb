{
 "cells": [
  {
   "cell_type": "markdown",
   "metadata": {},
   "source": [
    " FERKOUS SARAH 191931043867 M2 SII"
   ]
  },
  {
   "cell_type": "markdown",
   "metadata": {},
   "source": [
    "### 1. Les fonctions\n",
    "### 2. Visualisation "
   ]
  },
  {
   "cell_type": "code",
   "execution_count": 63,
   "metadata": {},
   "outputs": [],
   "source": [
    "import matplotlib.pyplot as plt\n",
    "import numpy as np"
   ]
  },
  {
   "cell_type": "code",
   "execution_count": 64,
   "metadata": {},
   "outputs": [],
   "source": [
    "def chargement_dataset(data):\n",
    "    lines = []\n",
    "    with open(data, 'r') as file:\n",
    "        for line in file:\n",
    "            lines.append(line)\n",
    "    return lines\n"
   ]
  },
  {
   "cell_type": "code",
   "execution_count": 65,
   "metadata": {},
   "outputs": [
    {
     "data": {
      "text/plain": [
       "['5.1,3.5,1.4,0.2,Iris-setosa\\n',\n",
       " '4.9,3.0,1.4,0.2,Iris-setosa\\n',\n",
       " '4.7,3.2,1.3,0.2,Iris-setosa\\n',\n",
       " '4.6,3.1,1.5,0.2,Iris-setosa\\n',\n",
       " '5.0,3.6,1.4,0.2,Iris-setosa\\n',\n",
       " '5.4,3.9,1.7,0.4,Iris-setosa\\n',\n",
       " '4.6,3.4,1.4,0.3,Iris-setosa\\n',\n",
       " '5.0,3.4,1.5,0.2,Iris-setosa\\n',\n",
       " '4.4,2.9,1.4,0.2,Iris-setosa\\n',\n",
       " '4.9,3.1,1.5,0.1,Iris-setosa\\n',\n",
       " '5.4,3.7,1.5,0.2,Iris-setosa\\n',\n",
       " '4.8,3.4,1.6,0.2,Iris-setosa\\n',\n",
       " '4.8,3.0,1.4,0.1,Iris-setosa\\n',\n",
       " '4.3,3.0,1.1,0.1,Iris-setosa\\n',\n",
       " '5.8,4.0,1.2,0.2,Iris-setosa\\n',\n",
       " '5.7,4.4,1.5,0.4,Iris-setosa\\n',\n",
       " '5.4,3.9,1.3,0.4,Iris-setosa\\n',\n",
       " '5.1,3.5,1.4,0.3,Iris-setosa\\n',\n",
       " '5.7,3.8,1.7,0.3,Iris-setosa\\n',\n",
       " '5.1,3.8,1.5,0.3,Iris-setosa\\n',\n",
       " '5.4,3.4,1.7,0.2,Iris-setosa\\n',\n",
       " '5.1,3.7,1.5,0.4,Iris-setosa\\n',\n",
       " '4.6,3.6,1.0,0.2,Iris-setosa\\n',\n",
       " '5.1,3.3,1.7,0.5,Iris-setosa\\n',\n",
       " '4.8,3.4,1.9,0.2,Iris-setosa\\n',\n",
       " '5.0,3.0,1.6,0.2,Iris-setosa\\n',\n",
       " '5.0,3.4,1.6,0.4,Iris-setosa\\n',\n",
       " '5.2,3.5,1.5,0.2,Iris-setosa\\n',\n",
       " '5.2,3.4,1.4,0.2,Iris-setosa\\n',\n",
       " '4.7,3.2,1.6,0.2,Iris-setosa\\n',\n",
       " '4.8,3.1,1.6,0.2,Iris-setosa\\n',\n",
       " '5.4,3.4,1.5,0.4,Iris-setosa\\n',\n",
       " '5.2,4.1,1.5,0.1,Iris-setosa\\n',\n",
       " '5.5,4.2,1.4,0.2,Iris-setosa\\n',\n",
       " '4.9,3.1,1.5,0.1,Iris-setosa\\n',\n",
       " '5.0,3.2,1.2,0.2,Iris-setosa\\n',\n",
       " '5.5,3.5,1.3,0.2,Iris-setosa\\n',\n",
       " '4.9,3.1,1.5,0.1,Iris-setosa\\n',\n",
       " '4.4,3.0,1.3,0.2,Iris-setosa\\n',\n",
       " '5.1,3.4,1.5,0.2,Iris-setosa\\n',\n",
       " '5.0,3.5,1.3,0.3,Iris-setosa\\n',\n",
       " '4.5,2.3,1.3,0.3,Iris-setosa\\n',\n",
       " '4.4,3.2,1.3,0.2,Iris-setosa\\n',\n",
       " '5.0,3.5,1.6,0.6,Iris-setosa\\n',\n",
       " '5.1,3.8,1.9,0.4,Iris-setosa\\n',\n",
       " '4.8,3.0,1.4,0.3,Iris-setosa\\n',\n",
       " '5.1,3.8,1.6,0.2,Iris-setosa\\n',\n",
       " '4.6,3.2,1.4,0.2,Iris-setosa\\n',\n",
       " '5.3,3.7,1.5,0.2,Iris-setosa\\n',\n",
       " '5.0,3.3,1.4,0.2,Iris-setosa\\n',\n",
       " '7.0,3.2,4.7,1.4,Iris-versicolor\\n',\n",
       " '6.4,3.2,4.5,1.5,Iris-versicolor\\n',\n",
       " '6.9,3.1,4.9,1.5,Iris-versicolor\\n',\n",
       " '5.5,2.3,4.0,1.3,Iris-versicolor\\n',\n",
       " '6.5,2.8,4.6,1.5,Iris-versicolor\\n',\n",
       " '5.7,2.8,4.5,1.3,Iris-versicolor\\n',\n",
       " '6.3,3.3,4.7,1.6,Iris-versicolor\\n',\n",
       " '4.9,2.4,3.3,1.0,Iris-versicolor\\n',\n",
       " '6.6,2.9,4.6,1.3,Iris-versicolor\\n',\n",
       " '5.2,2.7,3.9,1.4,Iris-versicolor\\n',\n",
       " '5.0,2.0,3.5,1.0,Iris-versicolor\\n',\n",
       " '5.9,3.0,4.2,1.5,Iris-versicolor\\n',\n",
       " '6.0,2.2,4.0,1.0,Iris-versicolor\\n',\n",
       " '6.1,2.9,4.7,1.4,Iris-versicolor\\n',\n",
       " '5.6,2.9,3.6,1.3,Iris-versicolor\\n',\n",
       " '6.7,3.1,4.4,1.4,Iris-versicolor\\n',\n",
       " '5.6,3.0,4.5,1.5,Iris-versicolor\\n',\n",
       " '5.8,2.7,4.1,1.0,Iris-versicolor\\n',\n",
       " '6.2,2.2,4.5,1.5,Iris-versicolor\\n',\n",
       " '5.6,2.5,3.9,1.1,Iris-versicolor\\n',\n",
       " '5.9,3.2,4.8,1.8,Iris-versicolor\\n',\n",
       " '6.1,2.8,4.0,1.3,Iris-versicolor\\n',\n",
       " '6.3,2.5,4.9,1.5,Iris-versicolor\\n',\n",
       " '6.1,2.8,4.7,1.2,Iris-versicolor\\n',\n",
       " '6.4,2.9,4.3,1.3,Iris-versicolor\\n',\n",
       " '6.6,3.0,4.4,1.4,Iris-versicolor\\n',\n",
       " '6.8,2.8,4.8,1.4,Iris-versicolor\\n',\n",
       " '6.7,3.0,5.0,1.7,Iris-versicolor\\n',\n",
       " '6.0,2.9,4.5,1.5,Iris-versicolor\\n',\n",
       " '5.7,2.6,3.5,1.0,Iris-versicolor\\n',\n",
       " '5.5,2.4,3.8,1.1,Iris-versicolor\\n',\n",
       " '5.5,2.4,3.7,1.0,Iris-versicolor\\n',\n",
       " '5.8,2.7,3.9,1.2,Iris-versicolor\\n',\n",
       " '6.0,2.7,5.1,1.6,Iris-versicolor\\n',\n",
       " '5.4,3.0,4.5,1.5,Iris-versicolor\\n',\n",
       " '6.0,3.4,4.5,1.6,Iris-versicolor\\n',\n",
       " '6.7,3.1,4.7,1.5,Iris-versicolor\\n',\n",
       " '6.3,2.3,4.4,1.3,Iris-versicolor\\n',\n",
       " '5.6,3.0,4.1,1.3,Iris-versicolor\\n',\n",
       " '5.5,2.5,4.0,1.3,Iris-versicolor\\n',\n",
       " '5.5,2.6,4.4,1.2,Iris-versicolor\\n',\n",
       " '6.1,3.0,4.6,1.4,Iris-versicolor\\n',\n",
       " '5.8,2.6,4.0,1.2,Iris-versicolor\\n',\n",
       " '5.0,2.3,3.3,1.0,Iris-versicolor\\n',\n",
       " '5.6,2.7,4.2,1.3,Iris-versicolor\\n',\n",
       " '5.7,3.0,4.2,1.2,Iris-versicolor\\n',\n",
       " '5.7,2.9,4.2,1.3,Iris-versicolor\\n',\n",
       " '6.2,2.9,4.3,1.3,Iris-versicolor\\n',\n",
       " '5.1,2.5,3.0,1.1,Iris-versicolor\\n',\n",
       " '5.7,2.8,4.1,1.3,Iris-versicolor\\n',\n",
       " '6.3,3.3,6.0,2.5,Iris-virginica\\n',\n",
       " '5.8,2.7,5.1,1.9,Iris-virginica\\n',\n",
       " '7.1,3.0,5.9,2.1,Iris-virginica\\n',\n",
       " '6.3,2.9,5.6,1.8,Iris-virginica\\n',\n",
       " '6.5,3.0,5.8,2.2,Iris-virginica\\n',\n",
       " '7.6,3.0,6.6,2.1,Iris-virginica\\n',\n",
       " '4.9,2.5,4.5,1.7,Iris-virginica\\n',\n",
       " '7.3,2.9,6.3,1.8,Iris-virginica\\n',\n",
       " '6.7,2.5,5.8,1.8,Iris-virginica\\n',\n",
       " '7.2,3.6,6.1,2.5,Iris-virginica\\n',\n",
       " '6.5,3.2,5.1,2.0,Iris-virginica\\n',\n",
       " '6.4,2.7,5.3,1.9,Iris-virginica\\n',\n",
       " '6.8,3.0,5.5,2.1,Iris-virginica\\n',\n",
       " '5.7,2.5,5.0,2.0,Iris-virginica\\n',\n",
       " '5.8,2.8,5.1,2.4,Iris-virginica\\n',\n",
       " '6.4,3.2,5.3,2.3,Iris-virginica\\n',\n",
       " '6.5,3.0,5.5,1.8,Iris-virginica\\n',\n",
       " '7.7,3.8,6.7,2.2,Iris-virginica\\n',\n",
       " '7.7,2.6,6.9,2.3,Iris-virginica\\n',\n",
       " '6.0,2.2,5.0,1.5,Iris-virginica\\n',\n",
       " '6.9,3.2,5.7,2.3,Iris-virginica\\n',\n",
       " '5.6,2.8,4.9,2.0,Iris-virginica\\n',\n",
       " '7.7,2.8,6.7,2.0,Iris-virginica\\n',\n",
       " '6.3,2.7,4.9,1.8,Iris-virginica\\n',\n",
       " '6.7,3.3,5.7,2.1,Iris-virginica\\n',\n",
       " '7.2,3.2,6.0,1.8,Iris-virginica\\n',\n",
       " '6.2,2.8,4.8,1.8,Iris-virginica\\n',\n",
       " '6.1,3.0,4.9,1.8,Iris-virginica\\n',\n",
       " '6.4,2.8,5.6,2.1,Iris-virginica\\n',\n",
       " '7.2,3.0,5.8,1.6,Iris-virginica\\n',\n",
       " '7.4,2.8,6.1,1.9,Iris-virginica\\n',\n",
       " '7.9,3.8,6.4,2.0,Iris-virginica\\n',\n",
       " '6.4,2.8,5.6,2.2,Iris-virginica\\n',\n",
       " '6.3,2.8,5.1,1.5,Iris-virginica\\n',\n",
       " '6.1,2.6,5.6,1.4,Iris-virginica\\n',\n",
       " '7.7,3.0,6.1,2.3,Iris-virginica\\n',\n",
       " '6.3,3.4,5.6,2.4,Iris-virginica\\n',\n",
       " '6.4,3.1,5.5,1.8,Iris-virginica\\n',\n",
       " '6.0,3.0,4.8,1.8,Iris-virginica\\n',\n",
       " '6.9,3.1,5.4,2.1,Iris-virginica\\n',\n",
       " '6.7,3.1,5.6,2.4,Iris-virginica\\n',\n",
       " '6.9,3.1,5.1,2.3,Iris-virginica\\n',\n",
       " '5.8,2.7,5.1,1.9,Iris-virginica\\n',\n",
       " '6.8,3.2,5.9,2.3,Iris-virginica\\n',\n",
       " '6.7,3.3,5.7,2.5,Iris-virginica\\n',\n",
       " '6.7,3.0,5.2,2.3,Iris-virginica\\n',\n",
       " '6.3,2.5,5.0,1.9,Iris-virginica\\n',\n",
       " '6.5,3.0,5.2,2.0,Iris-virginica\\n',\n",
       " '6.2,3.4,5.4,2.3,Iris-virginica\\n',\n",
       " '5.9,3.0,5.1,1.8,Iris-virginica\\n']"
      ]
     },
     "execution_count": 65,
     "metadata": {},
     "output_type": "execute_result"
    }
   ],
   "source": [
    "result = chargement_dataset('Dataset-Exos.txt')\n",
    "result"
   ]
  },
  {
   "cell_type": "code",
   "execution_count": 66,
   "metadata": {},
   "outputs": [],
   "source": [
    "def informations_dataset(dataset):\n",
    "    if dataset is None:\n",
    "        print(\"Le dataset est vide ou n'a pas été chargé correctement.\")\n",
    "        return\n",
    "\n",
    "    nombre_de_lignes = len(dataset)\n",
    "    if nombre_de_lignes == 0:\n",
    "        print(\"Le dataset est vide.\")\n",
    "        return\n",
    "\n",
    "    longueur_lignes = [len(ligne) for ligne in dataset]\n",
    "    longueur_moyenne = sum(longueur_lignes) / nombre_de_lignes\n",
    "\n",
    "    print(f\"Nombre total de lignes dans le dataset : {nombre_de_lignes}\")\n",
    "    print(f\"Longueur moyenne des lignes : {longueur_moyenne:.2f} caractères\")\n",
    "\n",
    "    print(\"\\nPremières lignes du dataset :\")\n",
    "    for i in range(5):\n",
    "        print(dataset[i])\n"
   ]
  },
  {
   "cell_type": "code",
   "execution_count": 67,
   "metadata": {},
   "outputs": [
    {
     "name": "stdout",
     "output_type": "stream",
     "text": [
      "Nombre total de lignes dans le dataset : 150\n",
      "Longueur moyenne des lignes : 30.33 caractères\n",
      "\n",
      "Premières lignes du dataset :\n",
      "5.1,3.5,1.4,0.2,Iris-setosa\n",
      "\n",
      "4.9,3.0,1.4,0.2,Iris-setosa\n",
      "\n",
      "4.7,3.2,1.3,0.2,Iris-setosa\n",
      "\n",
      "4.6,3.1,1.5,0.2,Iris-setosa\n",
      "\n",
      "5.0,3.6,1.4,0.2,Iris-setosa\n",
      "\n"
     ]
    }
   ],
   "source": [
    "informations_dataset(result)"
   ]
  },
  {
   "cell_type": "code",
   "execution_count": 68,
   "metadata": {},
   "outputs": [],
   "source": [
    "def moyenneM(tab):\n",
    "    s = sum(tab)\n",
    "    m = len(tab)\n",
    "    return s/m"
   ]
  },
  {
   "cell_type": "code",
   "execution_count": 69,
   "metadata": {},
   "outputs": [],
   "source": [
    "def medianeM(tab):\n",
    "    liste_entiers_triee = sorted(tab)\n",
    "\n",
    "    n = len(liste_entiers_triee)\n",
    "    if n % 2 == 1:\n",
    "        # Si la liste a une longueur impaire, la médiane est au milieu\n",
    "        mediane = liste_entiers_triee[n // 2]\n",
    "    else:\n",
    "        # Si la liste a une longueur paire, la médiane est la moyenne des deux éléments du milieu\n",
    "        mediane = (liste_entiers_triee[(n - 1) // 2] + liste_entiers_triee[n // 2]) / 2\n",
    "    return mediane    \n"
   ]
  },
  {
   "cell_type": "code",
   "execution_count": 70,
   "metadata": {},
   "outputs": [],
   "source": [
    "def modeM(tab):\n",
    "    occurrences = {}\n",
    "    for valeur in tab:\n",
    "        if valeur in occurrences:\n",
    "            occurrences[valeur] += 1\n",
    "        else:\n",
    "            occurrences[valeur] = 1\n",
    "\n",
    "    mode = None\n",
    "    max_occurrences = 0\n",
    "\n",
    "    for valeur, count in occurrences.items():\n",
    "        if count > max_occurrences:\n",
    "            mode = valeur\n",
    "            max_occurrences = count\n",
    "    return mode        \n"
   ]
  },
  {
   "cell_type": "code",
   "execution_count": 71,
   "metadata": {},
   "outputs": [],
   "source": [
    "def tendances_centrales(attribut):\n",
    "    if len(attribut) == 0:\n",
    "        return None\n",
    "\n",
    "    moyenne = moyenneM(attribut)\n",
    "    mediane = medianeM(attribut)\n",
    "    mode_resultat = modeM(attribut)\n",
    " \n",
    "    return {\n",
    "        \"Moyenne\": moyenne,\n",
    "        \"Médiane\": mediane,  #milieu\n",
    "        \"Mode\": mode_resultat #plus freq\n",
    "    }\n"
   ]
  },
  {
   "cell_type": "code",
   "execution_count": 72,
   "metadata": {},
   "outputs": [
    {
     "data": {
      "text/html": [
       "<div>\n",
       "<style scoped>\n",
       "    .dataframe tbody tr th:only-of-type {\n",
       "        vertical-align: middle;\n",
       "    }\n",
       "\n",
       "    .dataframe tbody tr th {\n",
       "        vertical-align: top;\n",
       "    }\n",
       "\n",
       "    .dataframe thead th {\n",
       "        text-align: right;\n",
       "    }\n",
       "</style>\n",
       "<table border=\"1\" class=\"dataframe\">\n",
       "  <thead>\n",
       "    <tr style=\"text-align: right;\">\n",
       "      <th></th>\n",
       "      <th>col1</th>\n",
       "      <th>col2</th>\n",
       "      <th>col3</th>\n",
       "      <th>col4</th>\n",
       "      <th>col5</th>\n",
       "    </tr>\n",
       "  </thead>\n",
       "  <tbody>\n",
       "    <tr>\n",
       "      <th>0</th>\n",
       "      <td>5.1</td>\n",
       "      <td>3.5</td>\n",
       "      <td>1.4</td>\n",
       "      <td>0.2</td>\n",
       "      <td>Iris-setosa</td>\n",
       "    </tr>\n",
       "    <tr>\n",
       "      <th>1</th>\n",
       "      <td>4.9</td>\n",
       "      <td>3.0</td>\n",
       "      <td>1.4</td>\n",
       "      <td>0.2</td>\n",
       "      <td>Iris-setosa</td>\n",
       "    </tr>\n",
       "    <tr>\n",
       "      <th>2</th>\n",
       "      <td>4.7</td>\n",
       "      <td>3.2</td>\n",
       "      <td>1.3</td>\n",
       "      <td>0.2</td>\n",
       "      <td>Iris-setosa</td>\n",
       "    </tr>\n",
       "    <tr>\n",
       "      <th>3</th>\n",
       "      <td>4.6</td>\n",
       "      <td>3.1</td>\n",
       "      <td>1.5</td>\n",
       "      <td>0.2</td>\n",
       "      <td>Iris-setosa</td>\n",
       "    </tr>\n",
       "    <tr>\n",
       "      <th>4</th>\n",
       "      <td>5.0</td>\n",
       "      <td>3.6</td>\n",
       "      <td>1.4</td>\n",
       "      <td>0.2</td>\n",
       "      <td>Iris-setosa</td>\n",
       "    </tr>\n",
       "  </tbody>\n",
       "</table>\n",
       "</div>"
      ],
      "text/plain": [
       "   col1  col2  col3  col4         col5\n",
       "0   5.1   3.5   1.4   0.2  Iris-setosa\n",
       "1   4.9   3.0   1.4   0.2  Iris-setosa\n",
       "2   4.7   3.2   1.3   0.2  Iris-setosa\n",
       "3   4.6   3.1   1.5   0.2  Iris-setosa\n",
       "4   5.0   3.6   1.4   0.2  Iris-setosa"
      ]
     },
     "execution_count": 72,
     "metadata": {},
     "output_type": "execute_result"
    }
   ],
   "source": [
    "import pandas as pd\n",
    "df = pd.read_csv('Dataset-Exos.txt', names=['col1', 'col2', 'col3', 'col4', 'col5'])\n",
    "df.describe()\n",
    "df.head()"
   ]
  },
  {
   "cell_type": "code",
   "execution_count": 73,
   "metadata": {},
   "outputs": [
    {
     "data": {
      "text/plain": [
       "{'Moyenne': 5.843333333333335, 'Médiane': 5.8, 'Mode': 5.0}"
      ]
     },
     "execution_count": 73,
     "metadata": {},
     "output_type": "execute_result"
    }
   ],
   "source": [
    "tendances_centrales(df['col1'])"
   ]
  },
  {
   "cell_type": "code",
   "execution_count": 74,
   "metadata": {},
   "outputs": [
    {
     "data": {
      "text/plain": [
       "{'Moyenne': 3.0540000000000007, 'Médiane': 3.0, 'Mode': 3.0}"
      ]
     },
     "execution_count": 74,
     "metadata": {},
     "output_type": "execute_result"
    }
   ],
   "source": [
    "tendances_centrales(df['col2'])"
   ]
  },
  {
   "cell_type": "code",
   "execution_count": 75,
   "metadata": {},
   "outputs": [
    {
     "data": {
      "text/plain": [
       "{'Moyenne': 3.7586666666666693, 'Médiane': 4.35, 'Mode': 1.5}"
      ]
     },
     "execution_count": 75,
     "metadata": {},
     "output_type": "execute_result"
    }
   ],
   "source": [
    "tendances_centrales(df['col3'])"
   ]
  },
  {
   "cell_type": "code",
   "execution_count": 76,
   "metadata": {},
   "outputs": [
    {
     "data": {
      "text/plain": [
       "{'Moyenne': 1.1986666666666672, 'Médiane': 1.3, 'Mode': 0.2}"
      ]
     },
     "execution_count": 76,
     "metadata": {},
     "output_type": "execute_result"
    }
   ],
   "source": [
    "tendances_centrales(df['col4'])"
   ]
  },
  {
   "cell_type": "code",
   "execution_count": 77,
   "metadata": {},
   "outputs": [],
   "source": [
    "def calculer_quartiles(attribut):\n",
    "    # Trier l'attribut\n",
    "    attribut_trie = sorted(attribut)\n",
    "\n",
    "    # Calculer (Q0) qui est le min\n",
    "    Q0 = attribut_trie[0]\n",
    "\n",
    "    # Calculer le premier quartile (Q1)\n",
    "    n = len(attribut_trie)\n",
    "    q1_idx = n // 4\n",
    "    Q1 = (attribut_trie[q1_idx - 1] + attribut_trie[q1_idx]) / 2\n",
    "\n",
    "    # Calculer le deuxième quartile (Q2, la médiane)\n",
    "    if n % 2 == 1:\n",
    "        Q2 = attribut_trie[n // 2]\n",
    "    else:\n",
    "        mid_idx = n // 2\n",
    "        Q2 = (attribut_trie[mid_idx - 1] + attribut_trie[mid_idx]) / 2\n",
    "\n",
    "    # Calculer le troisième quartile (Q3)\n",
    "    q3_idx = (3 * n) // 4\n",
    "    Q3 = (attribut_trie[q3_idx - 1] + attribut_trie[q3_idx]) / 2\n",
    "\n",
    "    # Calculer le quatrième quartile (Q4)\n",
    "    q4_idx = n - q1_idx\n",
    "    Q4 = (attribut_trie[q4_idx - 1] + attribut_trie[q4_idx]) / 2\n",
    "\n",
    "\n",
    "    return Q0, Q1, Q2, Q3, Q4\n"
   ]
  },
  {
   "cell_type": "code",
   "execution_count": 78,
   "metadata": {},
   "outputs": [
    {
     "data": {
      "text/plain": [
       "(4.3, 5.1, 5.8, 6.4, 6.4)"
      ]
     },
     "execution_count": 78,
     "metadata": {},
     "output_type": "execute_result"
    }
   ],
   "source": [
    "calculer_quartiles(df['col1'])"
   ]
  },
  {
   "cell_type": "code",
   "execution_count": 79,
   "metadata": {},
   "outputs": [
    {
     "data": {
      "text/plain": [
       "(2.0, 2.8, 3.0, 3.3, 3.3)"
      ]
     },
     "execution_count": 79,
     "metadata": {},
     "output_type": "execute_result"
    }
   ],
   "source": [
    "calculer_quartiles(df['col2'])"
   ]
  },
  {
   "cell_type": "code",
   "execution_count": 80,
   "metadata": {},
   "outputs": [
    {
     "data": {
      "text/plain": [
       "(1.0, 1.55, 4.35, 5.1, 5.1)"
      ]
     },
     "execution_count": 80,
     "metadata": {},
     "output_type": "execute_result"
    }
   ],
   "source": [
    "calculer_quartiles(df['col3'])"
   ]
  },
  {
   "cell_type": "code",
   "execution_count": 81,
   "metadata": {},
   "outputs": [
    {
     "data": {
      "text/plain": [
       "(0.1, 0.3, 1.3, 1.8, 1.8)"
      ]
     },
     "execution_count": 81,
     "metadata": {},
     "output_type": "execute_result"
    }
   ],
   "source": [
    "calculer_quartiles(df['col4'])"
   ]
  },
  {
   "cell_type": "code",
   "execution_count": 82,
   "metadata": {},
   "outputs": [],
   "source": [
    "def valeurs_manquantes(attribut):\n",
    "    # Compter les valeurs manquantes\n",
    "    valeurs_manquantes = 0\n",
    "    total_valeurs = len(attribut)\n",
    "\n",
    "    for valeur in attribut:\n",
    "        if valeur is None or valeur == '':\n",
    "            valeurs_manquantes += 1\n",
    "\n",
    "    # Calculer le pourcentage de valeurs manquantes\n",
    "    pourcentage_manquant = (valeurs_manquantes / total_valeurs) * 100\n",
    "\n",
    "    print(\"Nombre de valeurs manquantes :\", valeurs_manquantes)\n",
    "    print(\"Pourcentage de valeurs manquantes : {:.2f}%\".format(pourcentage_manquant))"
   ]
  },
  {
   "cell_type": "code",
   "execution_count": 83,
   "metadata": {},
   "outputs": [
    {
     "name": "stdout",
     "output_type": "stream",
     "text": [
      "Nombre de valeurs manquantes : 0\n",
      "Pourcentage de valeurs manquantes : 0.00%\n"
     ]
    }
   ],
   "source": [
    "valeurs_manquantes(df['col1'])"
   ]
  },
  {
   "cell_type": "code",
   "execution_count": 84,
   "metadata": {},
   "outputs": [
    {
     "name": "stdout",
     "output_type": "stream",
     "text": [
      "Nombre de valeurs manquantes : 0\n",
      "Pourcentage de valeurs manquantes : 0.00%\n"
     ]
    }
   ],
   "source": [
    "valeurs_manquantes(df['col2'])"
   ]
  },
  {
   "cell_type": "code",
   "execution_count": 85,
   "metadata": {},
   "outputs": [
    {
     "name": "stdout",
     "output_type": "stream",
     "text": [
      "Nombre de valeurs manquantes : 0\n",
      "Pourcentage de valeurs manquantes : 0.00%\n"
     ]
    }
   ],
   "source": [
    "valeurs_manquantes(df['col3'])"
   ]
  },
  {
   "cell_type": "code",
   "execution_count": 86,
   "metadata": {},
   "outputs": [
    {
     "name": "stdout",
     "output_type": "stream",
     "text": [
      "Nombre de valeurs manquantes : 0\n",
      "Pourcentage de valeurs manquantes : 0.00%\n"
     ]
    }
   ],
   "source": [
    "valeurs_manquantes(df['col4'])"
   ]
  },
  {
   "cell_type": "code",
   "execution_count": 87,
   "metadata": {},
   "outputs": [
    {
     "name": "stderr",
     "output_type": "stream",
     "text": [
      "No artists with labels found to put in legend.  Note that artists whose label start with an underscore are ignored when legend() is called with no argument.\n"
     ]
    },
    {
     "data": {
      "image/png": "[encoded data removed]",
      "text/plain": [
       "<Figure size 640x480 with 1 Axes>"
      ]
     },
     "metadata": {},
     "output_type": "display_data"
    }
   ],
   "source": [
    "plt.hist(df['col1'], bins=10, edgecolor='k', alpha=0.75)\n",
    "\n",
    "plt.xlabel('Dimentions')\n",
    "plt.ylabel('Fréquence')\n",
    "plt.legend()\n",
    "plt.title('Histogramme des fleurs')\n",
    "plt.show()"
   ]
  },
  {
   "cell_type": "code",
   "execution_count": 88,
   "metadata": {},
   "outputs": [
    {
     "name": "stderr",
     "output_type": "stream",
     "text": [
      "No artists with labels found to put in legend.  Note that artists whose label start with an underscore are ignored when legend() is called with no argument.\n"
     ]
    },
    {
     "data": {
      "image/png": "[encoded data removed]",
      "text/plain": [
       "<Figure size 640x480 with 1 Axes>"
      ]
     },
     "metadata": {},
     "output_type": "display_data"
    }
   ],
   "source": [
    "plt.hist(df['col2'], bins=10, edgecolor='k', alpha=0.75)\n",
    "\n",
    "plt.xlabel('Dimentions')\n",
    "plt.ylabel('Fréquence')\n",
    "plt.legend()\n",
    "plt.title('Histogramme des fleurs')\n",
    "plt.show()"
   ]
  },
  {
   "cell_type": "code",
   "execution_count": 89,
   "metadata": {},
   "outputs": [
    {
     "name": "stderr",
     "output_type": "stream",
     "text": [
      "No artists with labels found to put in legend.  Note that artists whose label start with an underscore are ignored when legend() is called with no argument.\n"
     ]
    },
    {
     "data": {
      "image/png": "[encoded data removed]",
      "text/plain": [
       "<Figure size 640x480 with 1 Axes>"
      ]
     },
     "metadata": {},
     "output_type": "display_data"
    }
   ],
   "source": [
    "plt.hist(df['col3'], bins=10, edgecolor='k', alpha=0.75)\n",
    "\n",
    "plt.xlabel('Dimentions')\n",
    "plt.ylabel('Fréquence')\n",
    "plt.legend()\n",
    "plt.title('Histogramme des fleurs')\n",
    "plt.show()"
   ]
  },
  {
   "cell_type": "code",
   "execution_count": 90,
   "metadata": {},
   "outputs": [
    {
     "name": "stderr",
     "output_type": "stream",
     "text": [
      "No artists with labels found to put in legend.  Note that artists whose label start with an underscore are ignored when legend() is called with no argument.\n"
     ]
    },
    {
     "data": {
      "image/png": "[encoded data removed]",
      "text/plain": [
       "<Figure size 640x480 with 1 Axes>"
      ]
     },
     "metadata": {},
     "output_type": "display_data"
    }
   ],
   "source": [
    "plt.hist(df['col4'], bins=10, edgecolor='k', alpha=0.75)\n",
    "\n",
    "plt.xlabel('Dimentions')\n",
    "plt.ylabel('Fréquence')\n",
    "plt.legend()\n",
    "plt.title('Histogramme des fleurs')\n",
    "plt.show()"
   ]
  },
  {
   "cell_type": "code",
   "execution_count": 91,
   "metadata": {},
   "outputs": [],
   "source": [
    "def generate_box_plot(data, attribute_name, show_outliers=True):\n",
    "    fig, ax = plt.subplots()\n",
    "    \n",
    "    if show_outliers:\n",
    "        ax.boxplot(data, vert=False, patch_artist=True, labels=[attribute_name])\n",
    "    else:\n",
    "        ax.boxplot(data, vert=False, patch_artist=True, labels=[attribute_name], showfliers=False)\n",
    "    \n",
    "    plt.title(f\"Boîte à Moustache de {attribute_name}\")\n",
    "    plt.grid(True)\n",
    "    plt.show()"
   ]
  },
  {
   "cell_type": "code",
   "execution_count": 92,
   "metadata": {},
   "outputs": [
    {
     "data": {
      "image/png": "[encoded data removed]",
      "text/plain": [
       "<Figure size 640x480 with 1 Axes>"
      ]
     },
     "metadata": {},
     "output_type": "display_data"
    }
   ],
   "source": [
    "attribute_name = \"Valeurs\"\n",
    "generate_box_plot(df['col1'], attribute_name, show_outliers=True)"
   ]
  },
  {
   "cell_type": "code",
   "execution_count": 93,
   "metadata": {},
   "outputs": [
    {
     "data": {
      "image/png": "[encoded data removed]",
      "text/plain": [
       "<Figure size 640x480 with 1 Axes>"
      ]
     },
     "metadata": {},
     "output_type": "display_data"
    }
   ],
   "source": [
    "attribute_name = \"Valeurs\"\n",
    "generate_box_plot(df['col2'], attribute_name, show_outliers=True)"
   ]
  },
  {
   "cell_type": "code",
   "execution_count": 94,
   "metadata": {},
   "outputs": [],
   "source": [
    "q0, q1, q2, q3, q4 = calculer_quartiles(df['col2'])\n",
    "\n",
    "iqr = q3 - q1\n",
    "mn = q1 - (1.5 * iqr)\n",
    "mx = q3 + (1.5 * iqr)"
   ]
  },
  {
   "cell_type": "code",
   "execution_count": 95,
   "metadata": {},
   "outputs": [],
   "source": [
    "dfn = df[(df.col2>=(mn)) & (df.col2<=mx)]"
   ]
  },
  {
   "cell_type": "code",
   "execution_count": 96,
   "metadata": {},
   "outputs": [
    {
     "data": {
      "image/png": "[encoded data removed]",
      "text/plain": [
       "<Figure size 640x480 with 1 Axes>"
      ]
     },
     "metadata": {},
     "output_type": "display_data"
    }
   ],
   "source": [
    "attribute_name = \"Valeurs\"\n",
    "generate_box_plot(dfn['col2'], attribute_name, show_outliers=True)"
   ]
  },
  {
   "cell_type": "code",
   "execution_count": 97,
   "metadata": {},
   "outputs": [
    {
     "data": {
      "image/png": "[encoded data removed]",
      "text/plain": [
       "<Figure size 640x480 with 1 Axes>"
      ]
     },
     "metadata": {},
     "output_type": "display_data"
    }
   ],
   "source": [
    "attribute_name = \"Valeurs\"\n",
    "generate_box_plot(df['col3'], attribute_name, show_outliers=True)"
   ]
  },
  {
   "cell_type": "code",
   "execution_count": 98,
   "metadata": {},
   "outputs": [
    {
     "data": {
      "image/png": "[encoded data removed]",
      "text/plain": [
       "<Figure size 640x480 with 1 Axes>"
      ]
     },
     "metadata": {},
     "output_type": "display_data"
    }
   ],
   "source": [
    "attribute_name = \"Valeurs\"\n",
    "generate_box_plot(df['col4'], attribute_name, show_outliers=True)"
   ]
  },
  {
   "cell_type": "code",
   "execution_count": 99,
   "metadata": {},
   "outputs": [
    {
     "data": {
      "image/png": "[encoded data removed]",
      "text/plain": [
       "<Figure size 640x480 with 1 Axes>"
      ]
     },
     "metadata": {},
     "output_type": "display_data"
    }
   ],
   "source": [
    "plt.scatter(df['col1'], df['col2'])\n",
    "plt.title(\"Diagramme de dispertion\")\n",
    "\n",
    "plt.xlabel('Valeur col1')\n",
    "plt.ylabel('Valeur col2')\n",
    "\n",
    "plt.show()"
   ]
  },
  {
   "cell_type": "code",
   "execution_count": 100,
   "metadata": {},
   "outputs": [
    {
     "data": {
      "image/png": "[encoded data removed]",
      "text/plain": [
       "<Figure size 640x480 with 1 Axes>"
      ]
     },
     "metadata": {},
     "output_type": "display_data"
    }
   ],
   "source": [
    "plt.scatter(df['col3'], df['col4'])\n",
    "plt.title(\"Diagramme de dispertion\")\n",
    "\n",
    "plt.xlabel('Valeur col1')\n",
    "plt.ylabel('Valeur col2')\n",
    "\n",
    "plt.show()"
   ]
  },
  {
   "cell_type": "markdown",
   "metadata": {},
   "source": [
    "Discretization"
   ]
  },
  {
   "cell_type": "code",
   "execution_count": 101,
   "metadata": {},
   "outputs": [],
   "source": [
    "def discretize_equal_width(col, k):\n",
    "    min_value = min(col)\n",
    "    max_value = max(col)\n",
    "    largeur = (max_value - min_value) / k\n",
    "    print(largeur)\n",
    "    intervals = [min_value + i * largeur for i in range(k)]\n",
    "    print(\"interales\",intervals)\n",
    "    discretized_data = []\n",
    "    for value in col:\n",
    "        category = 0\n",
    "        for i in range(1, len(intervals)):\n",
    "            if value <= intervals[i]:\n",
    "                category = i - 1\n",
    "                break\n",
    "        discretized_data.append(category)\n",
    "    return discretized_data"
   ]
  },
  {
   "cell_type": "code",
   "execution_count": 102,
   "metadata": {},
   "outputs": [
    {
     "name": "stdout",
     "output_type": "stream",
     "text": [
      "La valeur de n:  146\n",
      "La valeur de k:  8\n"
     ]
    }
   ],
   "source": [
    "import math\n",
    "#K=1+(10/3)*log(n,base=10) ).\n",
    "n = len(dfn)\n",
    "k = int(1 + (10/3)*math.log10(n))\n",
    "print(\"La valeur de n: \",n)\n",
    "print(\"La valeur de k: \",k)"
   ]
  },
  {
   "cell_type": "code",
   "execution_count": 103,
   "metadata": {},
   "outputs": [
    {
     "data": {
      "text/html": [
       "<div>\n",
       "<style scoped>\n",
       "    .dataframe tbody tr th:only-of-type {\n",
       "        vertical-align: middle;\n",
       "    }\n",
       "\n",
       "    .dataframe tbody tr th {\n",
       "        vertical-align: top;\n",
       "    }\n",
       "\n",
       "    .dataframe thead th {\n",
       "        text-align: right;\n",
       "    }\n",
       "</style>\n",
       "<table border=\"1\" class=\"dataframe\">\n",
       "  <thead>\n",
       "    <tr style=\"text-align: right;\">\n",
       "      <th></th>\n",
       "      <th>col1</th>\n",
       "      <th>col2</th>\n",
       "      <th>col3</th>\n",
       "      <th>col4</th>\n",
       "      <th>col5</th>\n",
       "    </tr>\n",
       "  </thead>\n",
       "  <tbody>\n",
       "    <tr>\n",
       "      <th>0</th>\n",
       "      <td>5.1</td>\n",
       "      <td>3.5</td>\n",
       "      <td>1.4</td>\n",
       "      <td>0.2</td>\n",
       "      <td>Iris-setosa</td>\n",
       "    </tr>\n",
       "    <tr>\n",
       "      <th>1</th>\n",
       "      <td>4.9</td>\n",
       "      <td>3.0</td>\n",
       "      <td>1.4</td>\n",
       "      <td>0.2</td>\n",
       "      <td>Iris-setosa</td>\n",
       "    </tr>\n",
       "    <tr>\n",
       "      <th>2</th>\n",
       "      <td>4.7</td>\n",
       "      <td>3.2</td>\n",
       "      <td>1.3</td>\n",
       "      <td>0.2</td>\n",
       "      <td>Iris-setosa</td>\n",
       "    </tr>\n",
       "    <tr>\n",
       "      <th>3</th>\n",
       "      <td>4.6</td>\n",
       "      <td>3.1</td>\n",
       "      <td>1.5</td>\n",
       "      <td>0.2</td>\n",
       "      <td>Iris-setosa</td>\n",
       "    </tr>\n",
       "    <tr>\n",
       "      <th>4</th>\n",
       "      <td>5.0</td>\n",
       "      <td>3.6</td>\n",
       "      <td>1.4</td>\n",
       "      <td>0.2</td>\n",
       "      <td>Iris-setosa</td>\n",
       "    </tr>\n",
       "    <tr>\n",
       "      <th>...</th>\n",
       "      <td>...</td>\n",
       "      <td>...</td>\n",
       "      <td>...</td>\n",
       "      <td>...</td>\n",
       "      <td>...</td>\n",
       "    </tr>\n",
       "    <tr>\n",
       "      <th>145</th>\n",
       "      <td>6.7</td>\n",
       "      <td>3.0</td>\n",
       "      <td>5.2</td>\n",
       "      <td>2.3</td>\n",
       "      <td>Iris-virginica</td>\n",
       "    </tr>\n",
       "    <tr>\n",
       "      <th>146</th>\n",
       "      <td>6.3</td>\n",
       "      <td>2.5</td>\n",
       "      <td>5.0</td>\n",
       "      <td>1.9</td>\n",
       "      <td>Iris-virginica</td>\n",
       "    </tr>\n",
       "    <tr>\n",
       "      <th>147</th>\n",
       "      <td>6.5</td>\n",
       "      <td>3.0</td>\n",
       "      <td>5.2</td>\n",
       "      <td>2.0</td>\n",
       "      <td>Iris-virginica</td>\n",
       "    </tr>\n",
       "    <tr>\n",
       "      <th>148</th>\n",
       "      <td>6.2</td>\n",
       "      <td>3.4</td>\n",
       "      <td>5.4</td>\n",
       "      <td>2.3</td>\n",
       "      <td>Iris-virginica</td>\n",
       "    </tr>\n",
       "    <tr>\n",
       "      <th>149</th>\n",
       "      <td>5.9</td>\n",
       "      <td>3.0</td>\n",
       "      <td>5.1</td>\n",
       "      <td>1.8</td>\n",
       "      <td>Iris-virginica</td>\n",
       "    </tr>\n",
       "  </tbody>\n",
       "</table>\n",
       "<p>146 rows × 5 columns</p>\n",
       "</div>"
      ],
      "text/plain": [
       "     col1  col2  col3  col4            col5\n",
       "0     5.1   3.5   1.4   0.2     Iris-setosa\n",
       "1     4.9   3.0   1.4   0.2     Iris-setosa\n",
       "2     4.7   3.2   1.3   0.2     Iris-setosa\n",
       "3     4.6   3.1   1.5   0.2     Iris-setosa\n",
       "4     5.0   3.6   1.4   0.2     Iris-setosa\n",
       "..    ...   ...   ...   ...             ...\n",
       "145   6.7   3.0   5.2   2.3  Iris-virginica\n",
       "146   6.3   2.5   5.0   1.9  Iris-virginica\n",
       "147   6.5   3.0   5.2   2.0  Iris-virginica\n",
       "148   6.2   3.4   5.4   2.3  Iris-virginica\n",
       "149   5.9   3.0   5.1   1.8  Iris-virginica\n",
       "\n",
       "[146 rows x 5 columns]"
      ]
     },
     "execution_count": 103,
     "metadata": {},
     "output_type": "execute_result"
    }
   ],
   "source": [
    "dfn"
   ]
  },
  {
   "cell_type": "code",
   "execution_count": 104,
   "metadata": {},
   "outputs": [
    {
     "name": "stdout",
     "output_type": "stream",
     "text": [
      "0.45000000000000007\n",
      "interales [4.3, 4.75, 5.2, 5.65, 6.1, 6.550000000000001, 7.0, 7.45]\n"
     ]
    },
    {
     "name": "stderr",
     "output_type": "stream",
     "text": [
      "C:\\Users\\AHM\\AppData\\Local\\Temp\\ipykernel_13828\\704870017.py:1: SettingWithCopyWarning: \n",
      "A value is trying to be set on a copy of a slice from a DataFrame.\n",
      "Try using .loc[row_indexer,col_indexer] = value instead\n",
      "\n",
      "See the caveats in the documentation: https://pandas.pydata.org/pandas-docs/stable/user_guide/indexing.html#returning-a-view-versus-a-copy\n",
      "  dfn['col1D'] = discretize_equal_width(dfn['col1'],k)\n"
     ]
    }
   ],
   "source": [
    "dfn['col1D'] = discretize_equal_width(dfn['col1'],k)"
   ]
  },
  {
   "cell_type": "code",
   "execution_count": 105,
   "metadata": {},
   "outputs": [
    {
     "name": "stdout",
     "output_type": "stream",
     "text": [
      "0.22499999999999998\n",
      "interales [2.2, 2.4250000000000003, 2.6500000000000004, 2.875, 3.1, 3.325, 3.55, 3.775]\n"
     ]
    },
    {
     "name": "stderr",
     "output_type": "stream",
     "text": [
      "C:\\Users\\AHM\\AppData\\Local\\Temp\\ipykernel_13828\\4292618618.py:1: SettingWithCopyWarning: \n",
      "A value is trying to be set on a copy of a slice from a DataFrame.\n",
      "Try using .loc[row_indexer,col_indexer] = value instead\n",
      "\n",
      "See the caveats in the documentation: https://pandas.pydata.org/pandas-docs/stable/user_guide/indexing.html#returning-a-view-versus-a-copy\n",
      "  dfn['col2D'] = discretize_equal_width(dfn['col2'],k)\n"
     ]
    }
   ],
   "source": [
    "dfn['col2D'] = discretize_equal_width(dfn['col2'],k)"
   ]
  },
  {
   "cell_type": "code",
   "execution_count": 106,
   "metadata": {},
   "outputs": [
    {
     "name": "stdout",
     "output_type": "stream",
     "text": [
      "0.7375\n",
      "interales [1.0, 1.7375, 2.475, 3.2125000000000004, 3.95, 4.6875, 5.425000000000001, 6.1625000000000005]\n"
     ]
    },
    {
     "name": "stderr",
     "output_type": "stream",
     "text": [
      "C:\\Users\\AHM\\AppData\\Local\\Temp\\ipykernel_13828\\4043910625.py:1: SettingWithCopyWarning: \n",
      "A value is trying to be set on a copy of a slice from a DataFrame.\n",
      "Try using .loc[row_indexer,col_indexer] = value instead\n",
      "\n",
      "See the caveats in the documentation: https://pandas.pydata.org/pandas-docs/stable/user_guide/indexing.html#returning-a-view-versus-a-copy\n",
      "  dfn['col3D'] = discretize_equal_width(dfn['col3'],k)\n"
     ]
    }
   ],
   "source": [
    "dfn['col3D'] = discretize_equal_width(dfn['col3'],k)"
   ]
  },
  {
   "cell_type": "code",
   "execution_count": 107,
   "metadata": {},
   "outputs": [
    {
     "name": "stdout",
     "output_type": "stream",
     "text": [
      "0.3\n",
      "interales [0.1, 0.4, 0.7, 0.9999999999999999, 1.3, 1.6, 1.9, 2.2]\n"
     ]
    },
    {
     "name": "stderr",
     "output_type": "stream",
     "text": [
      "C:\\Users\\AHM\\AppData\\Local\\Temp\\ipykernel_13828\\1329331783.py:1: SettingWithCopyWarning: \n",
      "A value is trying to be set on a copy of a slice from a DataFrame.\n",
      "Try using .loc[row_indexer,col_indexer] = value instead\n",
      "\n",
      "See the caveats in the documentation: https://pandas.pydata.org/pandas-docs/stable/user_guide/indexing.html#returning-a-view-versus-a-copy\n",
      "  dfn['col4D'] = discretize_equal_width(dfn['col4'],k)\n"
     ]
    }
   ],
   "source": [
    "dfn['col4D'] = discretize_equal_width(dfn['col4'],k)"
   ]
  },
  {
   "cell_type": "code",
   "execution_count": 108,
   "metadata": {},
   "outputs": [
    {
     "data": {
      "text/html": [
       "<div>\n",
       "<style scoped>\n",
       "    .dataframe tbody tr th:only-of-type {\n",
       "        vertical-align: middle;\n",
       "    }\n",
       "\n",
       "    .dataframe tbody tr th {\n",
       "        vertical-align: top;\n",
       "    }\n",
       "\n",
       "    .dataframe thead th {\n",
       "        text-align: right;\n",
       "    }\n",
       "</style>\n",
       "<table border=\"1\" class=\"dataframe\">\n",
       "  <thead>\n",
       "    <tr style=\"text-align: right;\">\n",
       "      <th></th>\n",
       "      <th>col1</th>\n",
       "      <th>col2</th>\n",
       "      <th>col3</th>\n",
       "      <th>col4</th>\n",
       "      <th>col5</th>\n",
       "      <th>col1D</th>\n",
       "      <th>col2D</th>\n",
       "      <th>col3D</th>\n",
       "      <th>col4D</th>\n",
       "    </tr>\n",
       "  </thead>\n",
       "  <tbody>\n",
       "    <tr>\n",
       "      <th>0</th>\n",
       "      <td>5.1</td>\n",
       "      <td>3.5</td>\n",
       "      <td>1.4</td>\n",
       "      <td>0.2</td>\n",
       "      <td>Iris-setosa</td>\n",
       "      <td>1</td>\n",
       "      <td>5</td>\n",
       "      <td>0</td>\n",
       "      <td>0</td>\n",
       "    </tr>\n",
       "    <tr>\n",
       "      <th>1</th>\n",
       "      <td>4.9</td>\n",
       "      <td>3.0</td>\n",
       "      <td>1.4</td>\n",
       "      <td>0.2</td>\n",
       "      <td>Iris-setosa</td>\n",
       "      <td>1</td>\n",
       "      <td>3</td>\n",
       "      <td>0</td>\n",
       "      <td>0</td>\n",
       "    </tr>\n",
       "    <tr>\n",
       "      <th>2</th>\n",
       "      <td>4.7</td>\n",
       "      <td>3.2</td>\n",
       "      <td>1.3</td>\n",
       "      <td>0.2</td>\n",
       "      <td>Iris-setosa</td>\n",
       "      <td>0</td>\n",
       "      <td>4</td>\n",
       "      <td>0</td>\n",
       "      <td>0</td>\n",
       "    </tr>\n",
       "    <tr>\n",
       "      <th>3</th>\n",
       "      <td>4.6</td>\n",
       "      <td>3.1</td>\n",
       "      <td>1.5</td>\n",
       "      <td>0.2</td>\n",
       "      <td>Iris-setosa</td>\n",
       "      <td>0</td>\n",
       "      <td>3</td>\n",
       "      <td>0</td>\n",
       "      <td>0</td>\n",
       "    </tr>\n",
       "    <tr>\n",
       "      <th>4</th>\n",
       "      <td>5.0</td>\n",
       "      <td>3.6</td>\n",
       "      <td>1.4</td>\n",
       "      <td>0.2</td>\n",
       "      <td>Iris-setosa</td>\n",
       "      <td>1</td>\n",
       "      <td>6</td>\n",
       "      <td>0</td>\n",
       "      <td>0</td>\n",
       "    </tr>\n",
       "    <tr>\n",
       "      <th>...</th>\n",
       "      <td>...</td>\n",
       "      <td>...</td>\n",
       "      <td>...</td>\n",
       "      <td>...</td>\n",
       "      <td>...</td>\n",
       "      <td>...</td>\n",
       "      <td>...</td>\n",
       "      <td>...</td>\n",
       "      <td>...</td>\n",
       "    </tr>\n",
       "    <tr>\n",
       "      <th>145</th>\n",
       "      <td>6.7</td>\n",
       "      <td>3.0</td>\n",
       "      <td>5.2</td>\n",
       "      <td>2.3</td>\n",
       "      <td>Iris-virginica</td>\n",
       "      <td>5</td>\n",
       "      <td>3</td>\n",
       "      <td>5</td>\n",
       "      <td>0</td>\n",
       "    </tr>\n",
       "    <tr>\n",
       "      <th>146</th>\n",
       "      <td>6.3</td>\n",
       "      <td>2.5</td>\n",
       "      <td>5.0</td>\n",
       "      <td>1.9</td>\n",
       "      <td>Iris-virginica</td>\n",
       "      <td>4</td>\n",
       "      <td>1</td>\n",
       "      <td>5</td>\n",
       "      <td>5</td>\n",
       "    </tr>\n",
       "    <tr>\n",
       "      <th>147</th>\n",
       "      <td>6.5</td>\n",
       "      <td>3.0</td>\n",
       "      <td>5.2</td>\n",
       "      <td>2.0</td>\n",
       "      <td>Iris-virginica</td>\n",
       "      <td>4</td>\n",
       "      <td>3</td>\n",
       "      <td>5</td>\n",
       "      <td>6</td>\n",
       "    </tr>\n",
       "    <tr>\n",
       "      <th>148</th>\n",
       "      <td>6.2</td>\n",
       "      <td>3.4</td>\n",
       "      <td>5.4</td>\n",
       "      <td>2.3</td>\n",
       "      <td>Iris-virginica</td>\n",
       "      <td>4</td>\n",
       "      <td>5</td>\n",
       "      <td>5</td>\n",
       "      <td>0</td>\n",
       "    </tr>\n",
       "    <tr>\n",
       "      <th>149</th>\n",
       "      <td>5.9</td>\n",
       "      <td>3.0</td>\n",
       "      <td>5.1</td>\n",
       "      <td>1.8</td>\n",
       "      <td>Iris-virginica</td>\n",
       "      <td>3</td>\n",
       "      <td>3</td>\n",
       "      <td>5</td>\n",
       "      <td>5</td>\n",
       "    </tr>\n",
       "  </tbody>\n",
       "</table>\n",
       "<p>146 rows × 9 columns</p>\n",
       "</div>"
      ],
      "text/plain": [
       "     col1  col2  col3  col4            col5  col1D  col2D  col3D  col4D\n",
       "0     5.1   3.5   1.4   0.2     Iris-setosa      1      5      0      0\n",
       "1     4.9   3.0   1.4   0.2     Iris-setosa      1      3      0      0\n",
       "2     4.7   3.2   1.3   0.2     Iris-setosa      0      4      0      0\n",
       "3     4.6   3.1   1.5   0.2     Iris-setosa      0      3      0      0\n",
       "4     5.0   3.6   1.4   0.2     Iris-setosa      1      6      0      0\n",
       "..    ...   ...   ...   ...             ...    ...    ...    ...    ...\n",
       "145   6.7   3.0   5.2   2.3  Iris-virginica      5      3      5      0\n",
       "146   6.3   2.5   5.0   1.9  Iris-virginica      4      1      5      5\n",
       "147   6.5   3.0   5.2   2.0  Iris-virginica      4      3      5      6\n",
       "148   6.2   3.4   5.4   2.3  Iris-virginica      4      5      5      0\n",
       "149   5.9   3.0   5.1   1.8  Iris-virginica      3      3      5      5\n",
       "\n",
       "[146 rows x 9 columns]"
      ]
     },
     "execution_count": 108,
     "metadata": {},
     "output_type": "execute_result"
    }
   ],
   "source": [
    "dfn"
   ]
  },
  {
   "cell_type": "code",
   "execution_count": 109,
   "metadata": {},
   "outputs": [],
   "source": [
    "colonnes_a_discretiser = ['col1', 'col2', 'col3', 'col4']  \n",
    "colonnes_discretiser = ['col1D', 'col2D', 'col3D', 'col4D']  "
   ]
  },
  {
   "cell_type": "code",
   "execution_count": 110,
   "metadata": {},
   "outputs": [],
   "source": [
    "def moyD(dfn):\n",
    "    for colonne in colonnes_a_discretiser:\n",
    "        dfn.loc[:, colonne] = dfn.groupby(colonne + 'D')[colonne].transform('mean')\n",
    "    return dfn  "
   ]
  },
  {
   "cell_type": "code",
   "execution_count": 111,
   "metadata": {},
   "outputs": [
    {
     "data": {
      "text/html": [
       "<div>\n",
       "<style scoped>\n",
       "    .dataframe tbody tr th:only-of-type {\n",
       "        vertical-align: middle;\n",
       "    }\n",
       "\n",
       "    .dataframe tbody tr th {\n",
       "        vertical-align: top;\n",
       "    }\n",
       "\n",
       "    .dataframe thead th {\n",
       "        text-align: right;\n",
       "    }\n",
       "</style>\n",
       "<table border=\"1\" class=\"dataframe\">\n",
       "  <thead>\n",
       "    <tr style=\"text-align: right;\">\n",
       "      <th></th>\n",
       "      <th>col1</th>\n",
       "      <th>col2</th>\n",
       "      <th>col3</th>\n",
       "      <th>col4</th>\n",
       "      <th>col5</th>\n",
       "      <th>col1D</th>\n",
       "      <th>col2D</th>\n",
       "      <th>col3D</th>\n",
       "      <th>col4D</th>\n",
       "    </tr>\n",
       "  </thead>\n",
       "  <tbody>\n",
       "    <tr>\n",
       "      <th>0</th>\n",
       "      <td>4.996875</td>\n",
       "      <td>3.433333</td>\n",
       "      <td>2.05098</td>\n",
       "      <td>0.737288</td>\n",
       "      <td>Iris-setosa</td>\n",
       "      <td>1</td>\n",
       "      <td>5</td>\n",
       "      <td>0</td>\n",
       "      <td>0</td>\n",
       "    </tr>\n",
       "    <tr>\n",
       "      <th>1</th>\n",
       "      <td>4.996875</td>\n",
       "      <td>3.004167</td>\n",
       "      <td>2.05098</td>\n",
       "      <td>0.737288</td>\n",
       "      <td>Iris-setosa</td>\n",
       "      <td>1</td>\n",
       "      <td>3</td>\n",
       "      <td>0</td>\n",
       "      <td>0</td>\n",
       "    </tr>\n",
       "    <tr>\n",
       "      <th>2</th>\n",
       "      <td>5.652941</td>\n",
       "      <td>3.231579</td>\n",
       "      <td>2.05098</td>\n",
       "      <td>0.737288</td>\n",
       "      <td>Iris-setosa</td>\n",
       "      <td>0</td>\n",
       "      <td>4</td>\n",
       "      <td>0</td>\n",
       "      <td>0</td>\n",
       "    </tr>\n",
       "    <tr>\n",
       "      <th>3</th>\n",
       "      <td>5.652941</td>\n",
       "      <td>3.004167</td>\n",
       "      <td>2.05098</td>\n",
       "      <td>0.737288</td>\n",
       "      <td>Iris-setosa</td>\n",
       "      <td>0</td>\n",
       "      <td>3</td>\n",
       "      <td>0</td>\n",
       "      <td>0</td>\n",
       "    </tr>\n",
       "    <tr>\n",
       "      <th>4</th>\n",
       "      <td>4.996875</td>\n",
       "      <td>3.650000</td>\n",
       "      <td>2.05098</td>\n",
       "      <td>0.737288</td>\n",
       "      <td>Iris-setosa</td>\n",
       "      <td>1</td>\n",
       "      <td>6</td>\n",
       "      <td>0</td>\n",
       "      <td>0</td>\n",
       "    </tr>\n",
       "    <tr>\n",
       "      <th>...</th>\n",
       "      <td>...</td>\n",
       "      <td>...</td>\n",
       "      <td>...</td>\n",
       "      <td>...</td>\n",
       "      <td>...</td>\n",
       "      <td>...</td>\n",
       "      <td>...</td>\n",
       "      <td>...</td>\n",
       "      <td>...</td>\n",
       "    </tr>\n",
       "    <tr>\n",
       "      <th>145</th>\n",
       "      <td>6.766667</td>\n",
       "      <td>3.004167</td>\n",
       "      <td>4.99375</td>\n",
       "      <td>0.737288</td>\n",
       "      <td>Iris-virginica</td>\n",
       "      <td>5</td>\n",
       "      <td>3</td>\n",
       "      <td>5</td>\n",
       "      <td>0</td>\n",
       "    </tr>\n",
       "    <tr>\n",
       "      <th>146</th>\n",
       "      <td>6.352000</td>\n",
       "      <td>2.538462</td>\n",
       "      <td>4.99375</td>\n",
       "      <td>1.815789</td>\n",
       "      <td>Iris-virginica</td>\n",
       "      <td>4</td>\n",
       "      <td>1</td>\n",
       "      <td>5</td>\n",
       "      <td>5</td>\n",
       "    </tr>\n",
       "    <tr>\n",
       "      <th>147</th>\n",
       "      <td>6.352000</td>\n",
       "      <td>3.004167</td>\n",
       "      <td>4.99375</td>\n",
       "      <td>2.080000</td>\n",
       "      <td>Iris-virginica</td>\n",
       "      <td>4</td>\n",
       "      <td>3</td>\n",
       "      <td>5</td>\n",
       "      <td>6</td>\n",
       "    </tr>\n",
       "    <tr>\n",
       "      <th>148</th>\n",
       "      <td>6.352000</td>\n",
       "      <td>3.433333</td>\n",
       "      <td>4.99375</td>\n",
       "      <td>0.737288</td>\n",
       "      <td>Iris-virginica</td>\n",
       "      <td>4</td>\n",
       "      <td>5</td>\n",
       "      <td>5</td>\n",
       "      <td>0</td>\n",
       "    </tr>\n",
       "    <tr>\n",
       "      <th>149</th>\n",
       "      <td>5.889655</td>\n",
       "      <td>3.004167</td>\n",
       "      <td>4.99375</td>\n",
       "      <td>1.815789</td>\n",
       "      <td>Iris-virginica</td>\n",
       "      <td>3</td>\n",
       "      <td>3</td>\n",
       "      <td>5</td>\n",
       "      <td>5</td>\n",
       "    </tr>\n",
       "  </tbody>\n",
       "</table>\n",
       "<p>146 rows × 9 columns</p>\n",
       "</div>"
      ],
      "text/plain": [
       "         col1      col2     col3      col4            col5  col1D  col2D  \\\n",
       "0    4.996875  3.433333  2.05098  0.737288     Iris-setosa      1      5   \n",
       "1    4.996875  3.004167  2.05098  0.737288     Iris-setosa      1      3   \n",
       "2    5.652941  3.231579  2.05098  0.737288     Iris-setosa      0      4   \n",
       "3    5.652941  3.004167  2.05098  0.737288     Iris-setosa      0      3   \n",
       "4    4.996875  3.650000  2.05098  0.737288     Iris-setosa      1      6   \n",
       "..        ...       ...      ...       ...             ...    ...    ...   \n",
       "145  6.766667  3.004167  4.99375  0.737288  Iris-virginica      5      3   \n",
       "146  6.352000  2.538462  4.99375  1.815789  Iris-virginica      4      1   \n",
       "147  6.352000  3.004167  4.99375  2.080000  Iris-virginica      4      3   \n",
       "148  6.352000  3.433333  4.99375  0.737288  Iris-virginica      4      5   \n",
       "149  5.889655  3.004167  4.99375  1.815789  Iris-virginica      3      3   \n",
       "\n",
       "     col3D  col4D  \n",
       "0        0      0  \n",
       "1        0      0  \n",
       "2        0      0  \n",
       "3        0      0  \n",
       "4        0      0  \n",
       "..     ...    ...  \n",
       "145      5      0  \n",
       "146      5      5  \n",
       "147      5      6  \n",
       "148      5      0  \n",
       "149      5      5  \n",
       "\n",
       "[146 rows x 9 columns]"
      ]
     },
     "execution_count": 111,
     "metadata": {},
     "output_type": "execute_result"
    }
   ],
   "source": [
    "dfn = moyD(dfn)\n",
    "dfn"
   ]
  },
  {
   "cell_type": "code",
   "execution_count": 112,
   "metadata": {},
   "outputs": [
    {
     "data": {
      "text/plain": [
       "array([4.996875  , 5.65294118, 5.48947368, 5.88965517, 6.76666667,\n",
       "       6.352     , 7.23333333])"
      ]
     },
     "execution_count": 112,
     "metadata": {},
     "output_type": "execute_result"
    }
   ],
   "source": [
    "dfn['col1'].unique()"
   ]
  },
  {
   "cell_type": "markdown",
   "metadata": {},
   "source": [
    "Normalisation"
   ]
  },
  {
   "cell_type": "code",
   "execution_count": 113,
   "metadata": {},
   "outputs": [],
   "source": [
    "colonnes_a_normaliser = ['col1', 'col2', 'col3', 'col4']\n",
    "min_old = dfn[colonnes_a_normaliser].min()\n",
    "max_old = dfn[colonnes_a_normaliser].max()  "
   ]
  },
  {
   "cell_type": "code",
   "execution_count": 114,
   "metadata": {},
   "outputs": [],
   "source": [
    "def normalization(data, min_old, max_old, min_new, max_new):\n",
    "    normalized_data = [(x - min_old) / (max_old - min_old) * (max_new - min_new) + min_new for x in data]\n",
    "    return normalized_data"
   ]
  },
  {
   "cell_type": "code",
   "execution_count": 115,
   "metadata": {},
   "outputs": [
    {
     "name": "stderr",
     "output_type": "stream",
     "text": [
      "C:\\Users\\AHM\\AppData\\Local\\Temp\\ipykernel_13828\\668502311.py:2: SettingWithCopyWarning: \n",
      "A value is trying to be set on a copy of a slice from a DataFrame.\n",
      "Try using .loc[row_indexer,col_indexer] = value instead\n",
      "\n",
      "See the caveats in the documentation: https://pandas.pydata.org/pandas-docs/stable/user_guide/indexing.html#returning-a-view-versus-a-copy\n",
      "  dfn[colonne] = normalization(dfn[colonne], min_old[colonne], max_old[colonne], 0, 1)\n"
     ]
    }
   ],
   "source": [
    "for colonne in colonnes_a_normaliser:\n",
    "    dfn[colonne] = normalization(dfn[colonne], min_old[colonne], max_old[colonne], 0, 1)"
   ]
  },
  {
   "cell_type": "code",
   "execution_count": 116,
   "metadata": {},
   "outputs": [
    {
     "data": {
      "text/html": [
       "<div>\n",
       "<style scoped>\n",
       "    .dataframe tbody tr th:only-of-type {\n",
       "        vertical-align: middle;\n",
       "    }\n",
       "\n",
       "    .dataframe tbody tr th {\n",
       "        vertical-align: top;\n",
       "    }\n",
       "\n",
       "    .dataframe thead th {\n",
       "        text-align: right;\n",
       "    }\n",
       "</style>\n",
       "<table border=\"1\" class=\"dataframe\">\n",
       "  <thead>\n",
       "    <tr style=\"text-align: right;\">\n",
       "      <th></th>\n",
       "      <th>col1</th>\n",
       "      <th>col2</th>\n",
       "      <th>col3</th>\n",
       "      <th>col4</th>\n",
       "      <th>col5</th>\n",
       "      <th>col1D</th>\n",
       "      <th>col2D</th>\n",
       "      <th>col3D</th>\n",
       "      <th>col4D</th>\n",
       "    </tr>\n",
       "  </thead>\n",
       "  <tbody>\n",
       "    <tr>\n",
       "      <th>0</th>\n",
       "      <td>0.000000</td>\n",
       "      <td>0.805075</td>\n",
       "      <td>0.039123</td>\n",
       "      <td>0.122411</td>\n",
       "      <td>Iris-setosa</td>\n",
       "      <td>1</td>\n",
       "      <td>5</td>\n",
       "      <td>0</td>\n",
       "      <td>0</td>\n",
       "    </tr>\n",
       "    <tr>\n",
       "      <th>1</th>\n",
       "      <td>0.000000</td>\n",
       "      <td>0.418973</td>\n",
       "      <td>0.039123</td>\n",
       "      <td>0.122411</td>\n",
       "      <td>Iris-setosa</td>\n",
       "      <td>1</td>\n",
       "      <td>3</td>\n",
       "      <td>0</td>\n",
       "      <td>0</td>\n",
       "    </tr>\n",
       "    <tr>\n",
       "      <th>2</th>\n",
       "      <td>0.293351</td>\n",
       "      <td>0.623566</td>\n",
       "      <td>0.039123</td>\n",
       "      <td>0.122411</td>\n",
       "      <td>Iris-setosa</td>\n",
       "      <td>0</td>\n",
       "      <td>4</td>\n",
       "      <td>0</td>\n",
       "      <td>0</td>\n",
       "    </tr>\n",
       "    <tr>\n",
       "      <th>3</th>\n",
       "      <td>0.293351</td>\n",
       "      <td>0.418973</td>\n",
       "      <td>0.039123</td>\n",
       "      <td>0.122411</td>\n",
       "      <td>Iris-setosa</td>\n",
       "      <td>0</td>\n",
       "      <td>3</td>\n",
       "      <td>0</td>\n",
       "      <td>0</td>\n",
       "    </tr>\n",
       "    <tr>\n",
       "      <th>4</th>\n",
       "      <td>0.000000</td>\n",
       "      <td>1.000000</td>\n",
       "      <td>0.039123</td>\n",
       "      <td>0.122411</td>\n",
       "      <td>Iris-setosa</td>\n",
       "      <td>1</td>\n",
       "      <td>6</td>\n",
       "      <td>0</td>\n",
       "      <td>0</td>\n",
       "    </tr>\n",
       "    <tr>\n",
       "      <th>...</th>\n",
       "      <td>...</td>\n",
       "      <td>...</td>\n",
       "      <td>...</td>\n",
       "      <td>...</td>\n",
       "      <td>...</td>\n",
       "      <td>...</td>\n",
       "      <td>...</td>\n",
       "      <td>...</td>\n",
       "      <td>...</td>\n",
       "    </tr>\n",
       "    <tr>\n",
       "      <th>145</th>\n",
       "      <td>0.791337</td>\n",
       "      <td>0.418973</td>\n",
       "      <td>0.801678</td>\n",
       "      <td>0.122411</td>\n",
       "      <td>Iris-virginica</td>\n",
       "      <td>5</td>\n",
       "      <td>3</td>\n",
       "      <td>5</td>\n",
       "      <td>0</td>\n",
       "    </tr>\n",
       "    <tr>\n",
       "      <th>146</th>\n",
       "      <td>0.605925</td>\n",
       "      <td>0.000000</td>\n",
       "      <td>0.801678</td>\n",
       "      <td>0.827313</td>\n",
       "      <td>Iris-virginica</td>\n",
       "      <td>4</td>\n",
       "      <td>1</td>\n",
       "      <td>5</td>\n",
       "      <td>5</td>\n",
       "    </tr>\n",
       "    <tr>\n",
       "      <th>147</th>\n",
       "      <td>0.605925</td>\n",
       "      <td>0.418973</td>\n",
       "      <td>0.801678</td>\n",
       "      <td>1.000000</td>\n",
       "      <td>Iris-virginica</td>\n",
       "      <td>4</td>\n",
       "      <td>3</td>\n",
       "      <td>5</td>\n",
       "      <td>6</td>\n",
       "    </tr>\n",
       "    <tr>\n",
       "      <th>148</th>\n",
       "      <td>0.605925</td>\n",
       "      <td>0.805075</td>\n",
       "      <td>0.801678</td>\n",
       "      <td>0.122411</td>\n",
       "      <td>Iris-virginica</td>\n",
       "      <td>4</td>\n",
       "      <td>5</td>\n",
       "      <td>5</td>\n",
       "      <td>0</td>\n",
       "    </tr>\n",
       "    <tr>\n",
       "      <th>149</th>\n",
       "      <td>0.399194</td>\n",
       "      <td>0.418973</td>\n",
       "      <td>0.801678</td>\n",
       "      <td>0.827313</td>\n",
       "      <td>Iris-virginica</td>\n",
       "      <td>3</td>\n",
       "      <td>3</td>\n",
       "      <td>5</td>\n",
       "      <td>5</td>\n",
       "    </tr>\n",
       "  </tbody>\n",
       "</table>\n",
       "<p>146 rows × 9 columns</p>\n",
       "</div>"
      ],
      "text/plain": [
       "         col1      col2      col3      col4            col5  col1D  col2D  \\\n",
       "0    0.000000  0.805075  0.039123  0.122411     Iris-setosa      1      5   \n",
       "1    0.000000  0.418973  0.039123  0.122411     Iris-setosa      1      3   \n",
       "2    0.293351  0.623566  0.039123  0.122411     Iris-setosa      0      4   \n",
       "3    0.293351  0.418973  0.039123  0.122411     Iris-setosa      0      3   \n",
       "4    0.000000  1.000000  0.039123  0.122411     Iris-setosa      1      6   \n",
       "..        ...       ...       ...       ...             ...    ...    ...   \n",
       "145  0.791337  0.418973  0.801678  0.122411  Iris-virginica      5      3   \n",
       "146  0.605925  0.000000  0.801678  0.827313  Iris-virginica      4      1   \n",
       "147  0.605925  0.418973  0.801678  1.000000  Iris-virginica      4      3   \n",
       "148  0.605925  0.805075  0.801678  0.122411  Iris-virginica      4      5   \n",
       "149  0.399194  0.418973  0.801678  0.827313  Iris-virginica      3      3   \n",
       "\n",
       "     col3D  col4D  \n",
       "0        0      0  \n",
       "1        0      0  \n",
       "2        0      0  \n",
       "3        0      0  \n",
       "4        0      0  \n",
       "..     ...    ...  \n",
       "145      5      0  \n",
       "146      5      5  \n",
       "147      5      6  \n",
       "148      5      0  \n",
       "149      5      5  \n",
       "\n",
       "[146 rows x 9 columns]"
      ]
     },
     "execution_count": 116,
     "metadata": {},
     "output_type": "execute_result"
    }
   ],
   "source": [
    "dfn"
   ]
  }
 ],
 "metadata": {
  "kernelspec": {
   "display_name": "Python 3",
   "language": "python",
   "name": "python3"
  },
  "language_info": {
   "codemirror_mode": {
    "name": "ipython",
    "version": 3
   },
   "file_extension": ".py",
   "mimetype": "text/x-python",
   "name": "python",
   "nbconvert_exporter": "python",
   "pygments_lexer": "ipython3",
   "version": "3.11.4"
  }
 },
 "nbformat": 4,
 "nbformat_minor": 2
}
